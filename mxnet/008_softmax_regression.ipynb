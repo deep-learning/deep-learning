{
 "cells": [
  {
   "cell_type": "code",
   "execution_count": 2,
   "metadata": {},
   "outputs": [],
   "source": [
    "import mxnet as mx\n",
    "from mxnet import nd"
   ]
  },
  {
   "cell_type": "code",
   "execution_count": 18,
   "metadata": {},
   "outputs": [],
   "source": [
    "def softmax(X):\n",
    "    ex = nd.exp(X)\n",
    "    su = ex.sum(axis=1, keepdims=True)\n",
    "    print(X.shape, su.shape)\n",
    "    return ex / su"
   ]
  },
  {
   "cell_type": "code",
   "execution_count": 37,
   "metadata": {
    "scrolled": true
   },
   "outputs": [
    {
     "name": "stdout",
     "output_type": "stream",
     "text": [
      "(2, 5) (2, 1)\n"
     ]
    },
    {
     "data": {
      "text/plain": [
       "(\n",
       " [[-0.03865968 -0.18256646 -0.63579154 -1.0019276  -0.23578128]\n",
       "  [ 1.3968942  -0.3896926   0.0197017  -0.74442834 -0.15309551]]\n",
       " <NDArray 2x5 @cpu(0)>, \n",
       " [[0.2763125  0.23927791 0.15207906 0.10545291 0.22687764]\n",
       "  [0.5715702  0.09575573 0.14419907 0.06715912 0.12131587]]\n",
       " <NDArray 2x5 @cpu(0)>, \n",
       " [1. 1.]\n",
       " <NDArray 2 @cpu(0)>)"
      ]
     },
     "execution_count": 37,
     "metadata": {},
     "output_type": "execute_result"
    }
   ],
   "source": [
    "X = nd.random_normal(shape=(2, 5))\n",
    "X_prob = softmax(X)\n",
    "X, X_prob, X_prob.sum(axis=1)"
   ]
  },
  {
   "cell_type": "code",
   "execution_count": 44,
   "metadata": {},
   "outputs": [],
   "source": [
    "num_inputs = 784\n",
    "def net(X):\n",
    "    return softmax(nd.dot(X.reshape((-1, num_inputs)), W) + b)"
   ]
  },
  {
   "cell_type": "code",
   "execution_count": 46,
   "metadata": {},
   "outputs": [],
   "source": [
    "def cross_entropy(yhat, y):\n",
    "    return - nd.pick(nd.log(yhat, y))"
   ]
  },
  {
   "cell_type": "code",
   "execution_count": 47,
   "metadata": {},
   "outputs": [],
   "source": [
    "nd.pick?"
   ]
  },
  {
   "cell_type": "code",
   "execution_count": 49,
   "metadata": {},
   "outputs": [],
   "source": [
    "def accuracy(output, label):\n",
    "    return nd.mean(output.argmax(axis=1) == label).asscalar()"
   ]
  },
  {
   "cell_type": "code",
   "execution_count": 50,
   "metadata": {},
   "outputs": [],
   "source": [
    "nd.random_normal?"
   ]
  }
 ],
 "metadata": {
  "kernelspec": {
   "display_name": "Python 3",
   "language": "python",
   "name": "python3"
  },
  "language_info": {
   "codemirror_mode": {
    "name": "ipython",
    "version": 3
   },
   "file_extension": ".py",
   "mimetype": "text/x-python",
   "name": "python",
   "nbconvert_exporter": "python",
   "pygments_lexer": "ipython3",
   "version": "3.6.4"
  }
 },
 "nbformat": 4,
 "nbformat_minor": 2
}
