{
 "cells": [
  {
   "cell_type": "markdown",
   "metadata": {
    "collapsed": true
   },
   "source": [
    "# Binary classification with logistic regression\n",
    "\n",
    "- Regression is the hammer we reach for when we want to answer how much? or how many? questions.\n",
    "- In industry, we’re more often interested in **making categorical assignments**, which is called **classification**.\n",
    "- binary classification: Let’s call our two categories the positive class y^i=1 and the negative class y^i=0.\n",
    "<math xmlns=\"http://www.w3.org/1998/Math/MathML\" display=\"block\">\n",
    "  <mover>\n",
    "    <mi>y</mi>\n",
    "    <mo stretchy=\"false\">&#x005E;<!-- ^ --></mo>\n",
    "  </mover>\n",
    "  <mo>=</mo>\n",
    "  <mi>&#x03C3;<!-- σ --></mi>\n",
    "  <mo stretchy=\"false\">(</mo>\n",
    "  <msup>\n",
    "    <mi mathvariant=\"bold-italic\">w</mi>\n",
    "    <mi>T</mi>\n",
    "  </msup>\n",
    "  <mi mathvariant=\"bold-italic\">x</mi>\n",
    "  <mo>+</mo>\n",
    "  <mi>b</mi>\n",
    "  <mo stretchy=\"false\">)</mo>\n",
    "  <mo>.</mo>\n",
    "</math>\n",
    "\n",
    "- The sigmoid function σ, sometimes called a squashing function or a logistic function - thus the name logistic regression - maps a real-valued input to the range 0 to 1. \n",
    "$$\n",
    "\\sigma(z) = \\frac{1}{1 + e^{-z}}\n",
    "$$\n",
    "\n",
    "-Because the sigmoid outputs a value between 0 and 1, it’s more reasonable to think of it as a probability. Note that an input of 0 gives a value of .5"
   ]
  },
  {
   "cell_type": "code",
   "execution_count": 1,
   "metadata": {},
   "outputs": [],
   "source": [
    "import mxnet as mx\n",
    "from mxnet import nd, autograd, gluon\n",
    "import matplotlib.pyplot as plt"
   ]
  },
  {
   "cell_type": "code",
   "execution_count": 2,
   "metadata": {},
   "outputs": [],
   "source": [
    "def logistic(z):\n",
    "    return 1. / (1. + nd.exp(-z))"
   ]
  },
  {
   "cell_type": "code",
   "execution_count": 4,
   "metadata": {},
   "outputs": [
    {
     "data": {
      "text/plain": [
       "(\n [-5. -4. -3. -2. -1.  0.  1.  2.  3.  4.]\n <NDArray 10 @cpu(0)>, \n [0.00669285 0.01798621 0.04742587 0.11920292 0.26894143 0.5\n  0.7310586  0.880797   0.95257413 0.98201376]\n <NDArray 10 @cpu(0)>)"
      ]
     },
     "execution_count": 4,
     "metadata": {},
     "output_type": "execute_result"
    }
   ],
   "source": [
    "x = nd.arange(-5, 5, 1)\n",
    "y = logistic(x)\n",
    "x, y"
   ]
  },
  {
   "cell_type": "code",
   "execution_count": 5,
   "metadata": {},
   "outputs": [
    {
     "data": {
      "text/plain": [
       "[<matplotlib.lines.Line2D at 0x7f8a4d06e198>]"
      ]
     },
     "execution_count": 5,
     "metadata": {},
     "output_type": "execute_result"
    },
    {
     "data": {
      "image/png": "[encoded data removed]",
      "text/plain": [
       "<matplotlib.figure.Figure at 0x7f8a5009ffd0>"
      ]
     },
     "metadata": {},
     "output_type": "display_data"
    }
   ],
   "source": [
    "plt.plot(x.asnumpy(), y.asnumpy())"
   ]
  },
  {
   "cell_type": "code",
   "execution_count": 10,
   "metadata": {},
   "outputs": [
    {
     "data": {
      "text/plain": [
       "\n[0.5]\n<NDArray 1 @cpu(0)>"
      ]
     },
     "execution_count": 10,
     "metadata": {},
     "output_type": "execute_result"
    }
   ],
   "source": [
    "logistic(nd.array([0]))"
   ]
  },
  {
   "cell_type": "markdown",
   "metadata": {},
   "source": [
    "## Binary cross-entropy loss\n",
    "\n",
    "- log loss (binary cross entropy)\n",
    "- if $y_i$ is 1 or 0 ...\n",
    "- a special case of cross-entropy\n",
    "$$\n",
    "\\ell (\\boldsymbol{y}, \\boldsymbol{\\hat{y}}) =  - \\sum_{i=1}^n y_i \\log \\hat{y}_i + (1-y_i) \\log (1-\\hat{y}_i).\n",
    "$$\n",
    "\n"
   ]
  },
  {
   "cell_type": "code",
   "execution_count": 13,
   "metadata": {},
   "outputs": [
    {
     "name": "stdout",
     "output_type": "stream",
     "text": [
      "/home/zhenglai/repo/deep-learning\n"
     ]
    },
    {
     "data": {
      "text/plain": [
       "'/home/zhenglai/repo/deep-learning'"
      ]
     },
     "execution_count": 13,
     "metadata": {},
     "output_type": "execute_result"
    }
   ],
   "source": [
    "%cd ~/repo/deep-learning\n",
    "%pwd"
   ]
  },
  {
   "cell_type": "code",
   "execution_count": 14,
   "metadata": {},
   "outputs": [],
   "source": [
    "data_ctx = mx.cpu()\n",
    "model_ctx = mx.cpu()\n",
    "\n",
    "with open('data/a1a.train') as f:\n",
    "    train_raw = f.read()\n",
    "\n",
    "with open('data/a1a.test') as f:\n",
    "    test_raw = f.read()"
   ]
  },
  {
   "cell_type": "code",
   "execution_count": 16,
   "metadata": {},
   "outputs": [
    {
     "data": {
      "text/plain": [
       "('-', '-')"
      ]
     },
     "execution_count": 16,
     "metadata": {},
     "output_type": "execute_result"
    }
   ],
   "source": [
    "train_raw[0], test_raw[0]"
   ]
  },
  {
   "cell_type": "code",
   "execution_count": 30,
   "metadata": {},
   "outputs": [],
   "source": [
    "def process_data(raw_data):\n",
    "    train_lines = raw_data.splitlines()\n",
    "    num_examples = len(train_lines)\n",
    "    num_features = 123\n",
    "    X = nd.zeros((num_examples, num_features), ctx=data_ctx)\n",
    "    Y = nd.zeros((num_examples, 1), ctx=data_ctx)\n",
    "    for i, line in enumerate(train_lines):\n",
    "        tokens = line.split()\n",
    "        label = (int(tokens[0]) + 1 ) / 2 # change label from {-1, 1} to {0, 1}\n",
    "        Y[i] = label\n",
    "        for token in tokens[1:]:\n",
    "            index = int(token[:-2]) - 1\n",
    "            X[i, index] = 1\n",
    "    return X, Y\n",
    "            "
   ]
  },
  {
   "cell_type": "code",
   "execution_count": 32,
   "metadata": {},
   "outputs": [],
   "source": [
    "X_train, Y_train = process_data(train_raw)\n",
    "X_test, Y_test = process_data(test_raw)\n"
   ]
  },
  {
   "cell_type": "code",
   "execution_count": 33,
   "metadata": {},
   "outputs": [
    {
     "data": {
      "text/plain": [
       "((1605, 123), (1605, 1), (30956, 123), (30956, 1))"
      ]
     },
     "execution_count": 33,
     "metadata": {},
     "output_type": "execute_result"
    }
   ],
   "source": [
    "X_train.shape, Y_train.shape,  X_test.shape, Y_test.shape"
   ]
  },
  {
   "cell_type": "code",
   "execution_count": 35,
   "metadata": {},
   "outputs": [
    {
     "data": {
      "text/plain": [
       "(\n [0.24610592]\n <NDArray 1 @cpu(0)>, \n [0.24053495]\n <NDArray 1 @cpu(0)>)"
      ]
     },
     "execution_count": 35,
     "metadata": {},
     "output_type": "execute_result"
    }
   ],
   "source": [
    "nd.sum(Y_train) / len(Y_train), nd.sum(Y_test) / len(Y_test)"
   ]
  },
  {
   "cell_type": "code",
   "execution_count": 37,
   "metadata": {},
   "outputs": [],
   "source": [
    "batch_size = 64\n",
    "train_data = gluon.data.DataLoader(gluon.data.ArrayDataset(X_train, Y_train),\n",
    "                                   batch_size=batch_size,\n",
    "                                   shuffle=True)\n",
    "test_data = gluon.data.DataLoader(gluon.data.ArrayDataset(X_test, Y_test),\n",
    "                                  batch_size=batch_size,\n",
    "                                  shuffle=True)"
   ]
  },
  {
   "cell_type": "code",
   "execution_count": 38,
   "metadata": {},
   "outputs": [],
   "source": [
    "net = gluon.nn.Dense(1, in_units=123)\n",
    "net.collect_params().initialize(mx.init.Normal(sigma=1.), ctx=model_ctx)"
   ]
  },
  {
   "cell_type": "code",
   "execution_count": 40,
   "metadata": {},
   "outputs": [],
   "source": [
    "trainer = gluon.Trainer(net.collect_params(), 'sgd', {'learning_rate': 0.01})"
   ]
  },
  {
   "cell_type": "code",
   "execution_count": 44,
   "metadata": {},
   "outputs": [],
   "source": [
    "def log_loss(y_pred, y_true):\n",
    "    yhat = logistic(y_pred)\n",
    "    return -nd.nansum(y_true * nd.log(yhat) + (1 - y_true) * nd.log(1 - yhat))\n"
   ]
  },
  {
   "cell_type": "code",
   "execution_count": 61,
   "metadata": {},
   "outputs": [
    {
     "name": "stdout",
     "output_type": "stream",
     "text": [
      "Epoch 0, loss: 529.7440814971924\nEpoch 1, loss: 529.7337665557861\nEpoch 2, loss: 529.6576271057129\n"
     ]
    },
    {
     "name": "stdout",
     "output_type": "stream",
     "text": [
      "Epoch 3, loss: 529.6718997955322\nEpoch 4, loss: 529.6519181728363\nEpoch 5, loss: 529.6117503643036\n"
     ]
    },
    {
     "name": "stdout",
     "output_type": "stream",
     "text": [
      "Epoch 6, loss: 529.606360912323\nEpoch 7, loss: 529.545517206192\nEpoch 8, loss: 529.54570043087\nEpoch 9, loss: 529.4981852173805\n"
     ]
    },
    {
     "name": "stdout",
     "output_type": "stream",
     "text": [
      "Epoch 10, loss: 529.5292819142342\nEpoch 11, loss: 529.5162823200226\nEpoch 12, loss: 529.441172003746\nEpoch 13, loss: 529.4758333563805\n"
     ]
    },
    {
     "name": "stdout",
     "output_type": "stream",
     "text": [
      "Epoch 14, loss: 529.4283218383789\nEpoch 15, loss: 529.3255271911621\nEpoch 16, loss: 529.318289399147\nEpoch 17, loss: 529.2971429824829\n"
     ]
    },
    {
     "name": "stdout",
     "output_type": "stream",
     "text": [
      "Epoch 18, loss: 529.2711372375488\nEpoch 19, loss: 529.2630590200424\nEpoch 20, loss: 529.2225176095963\nEpoch 21, loss: 529.1926245689392\n"
     ]
    },
    {
     "name": "stdout",
     "output_type": "stream",
     "text": [
      "Epoch 22, loss: 529.2300015687943\nEpoch 23, loss: 529.1673166751862\nEpoch 24, loss: 529.1420912742615\n"
     ]
    },
    {
     "name": "stdout",
     "output_type": "stream",
     "text": [
      "Epoch 25, loss: 529.1220030784607\nEpoch 26, loss: 529.1118512153625\nEpoch 27, loss: 529.0734310150146\n"
     ]
    },
    {
     "name": "stdout",
     "output_type": "stream",
     "text": [
      "Epoch 28, loss: 529.0342526435852\nEpoch 29, loss: 529.0005893707275\nEpoch 30, loss: 529.0246284008026\n"
     ]
    },
    {
     "name": "stdout",
     "output_type": "stream",
     "text": [
      "Epoch 31, loss: 528.9980469346046\nEpoch 32, loss: 528.9736700057983\nEpoch 33, loss: 528.9613733291626\nEpoch 34, loss: 528.904002904892\n"
     ]
    },
    {
     "name": "stdout",
     "output_type": "stream",
     "text": [
      "Epoch 35, loss: 528.913078546524\nEpoch 36, loss: 528.851771235466\nEpoch 37, loss: 528.8209407329559\n"
     ]
    },
    {
     "name": "stdout",
     "output_type": "stream",
     "text": [
      "Epoch 38, loss: 528.8062269687653\nEpoch 39, loss: 528.8185213208199\nEpoch 40, loss: 528.7967026233673\n"
     ]
    },
    {
     "name": "stdout",
     "output_type": "stream",
     "text": [
      "Epoch 41, loss: 528.7426298260689\nEpoch 42, loss: 528.6852924823761\nEpoch 43, loss: 528.7202059030533\nEpoch 44, loss: 528.6958192586899\n"
     ]
    },
    {
     "name": "stdout",
     "output_type": "stream",
     "text": [
      "Epoch 45, loss: 528.6221777200699\nEpoch 46, loss: 528.658650636673\nEpoch 47, loss: 528.5954713821411\n"
     ]
    },
    {
     "name": "stdout",
     "output_type": "stream",
     "text": [
      "Epoch 48, loss: 528.5413163155317\nEpoch 49, loss: 528.4781832695007\nEpoch 50, loss: 528.4941532611847\nEpoch 51, loss: 528.4673085212708\n"
     ]
    },
    {
     "name": "stdout",
     "output_type": "stream",
     "text": [
      "Epoch 52, loss: 528.4630966186523\nEpoch 53, loss: 528.4075399637222\nEpoch 54, loss: 528.4191741943359\nEpoch 55, loss: 528.4323637485504\n"
     ]
    },
    {
     "name": "stdout",
     "output_type": "stream",
     "text": [
      "Epoch 56, loss: 528.392258644104\nEpoch 57, loss: 528.3514596819878\nEpoch 58, loss: 528.3214153647423\n"
     ]
    },
    {
     "name": "stdout",
     "output_type": "stream",
     "text": [
      "Epoch 59, loss: 528.2898440361023\nEpoch 60, loss: 528.3134379386902\nEpoch 61, loss: 528.29031676054\nEpoch 62, loss: 528.2369115352631\n"
     ]
    },
    {
     "name": "stdout",
     "output_type": "stream",
     "text": [
      "Epoch 63, loss: 528.2236812114716\nEpoch 64, loss: 528.2336438894272\nEpoch 65, loss: 528.1677303612232\nEpoch 66, loss: 528.1402431130409\n"
     ]
    },
    {
     "name": "stdout",
     "output_type": "stream",
     "text": [
      "Epoch 67, loss: 528.1044853925705\nEpoch 68, loss: 528.0908021330833\nEpoch 69, loss: 528.0814626216888\nEpoch 70, loss: 528.0819071531296\n"
     ]
    },
    {
     "name": "stdout",
     "output_type": "stream",
     "text": [
      "Epoch 71, loss: 527.9957315921783\nEpoch 72, loss: 528.0566719174385\nEpoch 73, loss: 527.9649755358696\nEpoch 74, loss: 527.9732210636139\n"
     ]
    },
    {
     "name": "stdout",
     "output_type": "stream",
     "text": [
      "Epoch 75, loss: 527.9087871611118\nEpoch 76, loss: 527.9148254394531\nEpoch 77, loss: 527.8830091953278\nEpoch 78, loss: 527.8618871569633\n"
     ]
    },
    {
     "name": "stdout",
     "output_type": "stream",
     "text": [
      "Epoch 79, loss: 527.8546062707901\nEpoch 80, loss: 527.7883660793304\nEpoch 81, loss: 527.8095734119415\nEpoch 82, loss: 527.7283799648285\n"
     ]
    },
    {
     "name": "stdout",
     "output_type": "stream",
     "text": [
      "Epoch 83, loss: 527.767049074173\nEpoch 84, loss: 527.7081413269043\nEpoch 85, loss: 527.683131814003\nEpoch 86, loss: 527.6881699562073\n"
     ]
    },
    {
     "name": "stdout",
     "output_type": "stream",
     "text": [
      "Epoch 87, loss: 527.6803553104401\nEpoch 88, loss: 527.6139372587204\nEpoch 89, loss: 527.6540505886078\nEpoch 90, loss: 527.6079419851303\n"
     ]
    },
    {
     "name": "stdout",
     "output_type": "stream",
     "text": [
      "Epoch 91, loss: 527.6160048246384\nEpoch 92, loss: 527.5757772922516\nEpoch 93, loss: 527.5282329916954\nEpoch 94, loss: 527.4966228604317\n"
     ]
    },
    {
     "name": "stdout",
     "output_type": "stream",
     "text": [
      "Epoch 95, loss: 527.4499905109406\nEpoch 96, loss: 527.4401381015778\nEpoch 97, loss: 527.4013137817383\nEpoch 98, loss: 527.4157332777977\n"
     ]
    },
    {
     "name": "stdout",
     "output_type": "stream",
     "text": [
      "Epoch 99, loss: 527.4134423732758\nEpoch 100, loss: 527.4072535037994\nEpoch 101, loss: 527.3197309970856\nEpoch 102, loss: 527.304305255413\n"
     ]
    },
    {
     "name": "stdout",
     "output_type": "stream",
     "text": [
      "Epoch 103, loss: 527.3571489453316\nEpoch 104, loss: 527.2658638954163\nEpoch 105, loss: 527.2582442760468\nEpoch 106, loss: 527.2528898715973\n"
     ]
    },
    {
     "name": "stdout",
     "output_type": "stream",
     "text": [
      "Epoch 107, loss: 527.2273057103157\nEpoch 108, loss: 527.2421786785126\nEpoch 109, loss: 527.1322690248489\n"
     ]
    },
    {
     "name": "stdout",
     "output_type": "stream",
     "text": [
      "Epoch 110, loss: 527.1283179521561\nEpoch 111, loss: 527.1159060001373\nEpoch 112, loss: 527.12961769104\nEpoch 113, loss: 527.067641377449\n"
     ]
    },
    {
     "name": "stdout",
     "output_type": "stream",
     "text": [
      "Epoch 114, loss: 527.0929476618767\nEpoch 115, loss: 527.0105978250504\nEpoch 116, loss: 527.0337803959846\nEpoch 117, loss: 526.995433986187\n"
     ]
    },
    {
     "name": "stdout",
     "output_type": "stream",
     "text": [
      "Epoch 118, loss: 526.947741985321\nEpoch 119, loss: 526.9337139129639\nEpoch 120, loss: 527.0254065990448\nEpoch 121, loss: 526.9135288000107\n"
     ]
    },
    {
     "name": "stdout",
     "output_type": "stream",
     "text": [
      "Epoch 122, loss: 526.8847329616547\nEpoch 123, loss: 526.8261337280273\nEpoch 124, loss: 526.859073728323\nEpoch 125, loss: 526.8509492874146\n"
     ]
    },
    {
     "name": "stdout",
     "output_type": "stream",
     "text": [
      "Epoch 126, loss: 526.8361821174622\nEpoch 127, loss: 526.7903065681458\nEpoch 128, loss: 526.7973434925079\nEpoch 129, loss: 526.7803058624268\n"
     ]
    },
    {
     "name": "stdout",
     "output_type": "stream",
     "text": [
      "Epoch 130, loss: 526.69706594944\nEpoch 131, loss: 526.6902277469635\nEpoch 132, loss: 526.7169015407562\nEpoch 133, loss: 526.7050378322601\n"
     ]
    },
    {
     "name": "stdout",
     "output_type": "stream",
     "text": [
      "Epoch 134, loss: 526.6387053728104\nEpoch 135, loss: 526.6750626564026\nEpoch 136, loss: 526.602201461792\nEpoch 137, loss: 526.6399331092834\n"
     ]
    },
    {
     "name": "stdout",
     "output_type": "stream",
     "text": [
      "Epoch 138, loss: 526.5564954727888\nEpoch 139, loss: 526.5000156164169\nEpoch 140, loss: 526.4929727315903\nEpoch 141, loss: 526.5519129037857\n"
     ]
    },
    {
     "name": "stdout",
     "output_type": "stream",
     "text": [
      "Epoch 142, loss: 526.4658955335617\nEpoch 143, loss: 526.4782447814941\nEpoch 144, loss: 526.3822149857879\nEpoch 145, loss: 526.3885536193848\n"
     ]
    },
    {
     "name": "stdout",
     "output_type": "stream",
     "text": [
      "Epoch 146, loss: 526.4115300178528\nEpoch 147, loss: 526.3694529384375\nEpoch 148, loss: 526.3806171119213\nEpoch 149, loss: 526.3398683071136\n"
     ]
    },
    {
     "name": "stdout",
     "output_type": "stream",
     "text": [
      "Epoch 150, loss: 526.3273503482342\nEpoch 151, loss: 526.3317399024963\nEpoch 152, loss: 526.2620014548302\n"
     ]
    },
    {
     "name": "stdout",
     "output_type": "stream",
     "text": [
      "Epoch 153, loss: 526.3003828525543\nEpoch 154, loss: 526.2371884584427\nEpoch 155, loss: 526.2451823949814\nEpoch 156, loss: 526.195440530777\n"
     ]
    },
    {
     "name": "stdout",
     "output_type": "stream",
     "text": [
      "Epoch 157, loss: 526.1791694164276\nEpoch 158, loss: 526.1192879676819\nEpoch 159, loss: 526.1483693122864\nEpoch 160, loss: 526.1128113269806\n"
     ]
    },
    {
     "name": "stdout",
     "output_type": "stream",
     "text": [
      "Epoch 161, loss: 526.1187246441841\nEpoch 162, loss: 526.0846719741821\nEpoch 163, loss: 526.0696430206299\nEpoch 164, loss: 526.058434009552\n"
     ]
    },
    {
     "name": "stdout",
     "output_type": "stream",
     "text": [
      "Epoch 165, loss: 526.0046671628952\nEpoch 166, loss: 525.9959937036037\nEpoch 167, loss: 526.0243950784206\n"
     ]
    },
    {
     "name": "stdout",
     "output_type": "stream",
     "text": [
      "Epoch 168, loss: 525.9690238237381\nEpoch 169, loss: 525.9515644311905\nEpoch 170, loss: 525.9298852682114\n"
     ]
    },
    {
     "name": "stdout",
     "output_type": "stream",
     "text": [
      "Epoch 171, loss: 525.9136912822723\nEpoch 172, loss: 525.8947021961212\nEpoch 173, loss: 525.8605589866638\nEpoch 174, loss: 525.8585333824158\n"
     ]
    },
    {
     "name": "stdout",
     "output_type": "stream",
     "text": [
      "Epoch 175, loss: 525.8138357698917\nEpoch 176, loss: 525.7679334878922\nEpoch 177, loss: 525.7808637619019\nEpoch 178, loss: 525.7158883810043\n"
     ]
    },
    {
     "name": "stdout",
     "output_type": "stream",
     "text": [
      "Epoch 179, loss: 525.7588243484497\nEpoch 180, loss: 525.6720423698425\nEpoch 181, loss: 525.6946252584457\nEpoch 182, loss: 525.6894713640213\n"
     ]
    },
    {
     "name": "stdout",
     "output_type": "stream",
     "text": [
      "Epoch 183, loss: 525.6484454870224\nEpoch 184, loss: 525.6708481311798\nEpoch 185, loss: 525.6195983886719\nEpoch 186, loss: 525.577905356884\n"
     ]
    },
    {
     "name": "stdout",
     "output_type": "stream",
     "text": [
      "Epoch 187, loss: 525.5397893190384\nEpoch 188, loss: 525.5834798812866\nEpoch 189, loss: 525.574249535799\nEpoch 190, loss: 525.5774321556091\n"
     ]
    },
    {
     "name": "stdout",
     "output_type": "stream",
     "text": [
      "Epoch 191, loss: 525.5183943510056\nEpoch 192, loss: 525.4687328338623\nEpoch 193, loss: 525.4822731018066\nEpoch 194, loss: 525.4305903911591\n"
     ]
    },
    {
     "name": "stdout",
     "output_type": "stream",
     "text": [
      "Epoch 195, loss: 525.3686321377754\nEpoch 196, loss: 525.3957266807556\nEpoch 197, loss: 525.3551145792007\nEpoch 198, loss: 525.375951051712\n"
     ]
    },
    {
     "name": "stdout",
     "output_type": "stream",
     "text": [
      "Epoch 199, loss: 525.3117616176605\nEpoch 200, loss: 525.3370940685272\nEpoch 201, loss: 525.2967031002045\n"
     ]
    },
    {
     "name": "stdout",
     "output_type": "stream",
     "text": [
      "Epoch 202, loss: 525.2330393791199\nEpoch 203, loss: 525.2267120480537\nEpoch 204, loss: 525.2262382507324\nEpoch 205, loss: 525.1910275220871\n"
     ]
    },
    {
     "name": "stdout",
     "output_type": "stream",
     "text": [
      "Epoch 206, loss: 525.2137866020203\nEpoch 207, loss: 525.1488227844238\nEpoch 208, loss: 525.1755219697952\nEpoch 209, loss: 525.1272215247154\n"
     ]
    },
    {
     "name": "stdout",
     "output_type": "stream",
     "text": [
      "Epoch 210, loss: 525.1029162406921\nEpoch 211, loss: 525.0716171264648\nEpoch 212, loss: 525.170302271843\nEpoch 213, loss: 525.0497796535492\n"
     ]
    },
    {
     "name": "stdout",
     "output_type": "stream",
     "text": [
      "Epoch 214, loss: 525.0960632562637\nEpoch 215, loss: 524.9835457801819\nEpoch 216, loss: 525.0002818107605\nEpoch 217, loss: 525.0038063526154\n"
     ]
    },
    {
     "name": "stdout",
     "output_type": "stream",
     "text": [
      "Epoch 218, loss: 525.0178651809692\nEpoch 219, loss: 524.9707072973251\nEpoch 220, loss: 524.9362497329712\nEpoch 221, loss: 524.9624676704407\n"
     ]
    },
    {
     "name": "stdout",
     "output_type": "stream",
     "text": [
      "Epoch 222, loss: 524.9104955196381\nEpoch 223, loss: 524.8644770383835\nEpoch 224, loss: 524.8692474365234\nEpoch 225, loss: 524.8632742166519\n"
     ]
    },
    {
     "name": "stdout",
     "output_type": "stream",
     "text": [
      "Epoch 226, loss: 524.7578464746475\nEpoch 227, loss: 524.7534699440002\nEpoch 228, loss: 524.7833923101425\nEpoch 229, loss: 524.7953284978867\n"
     ]
    },
    {
     "name": "stdout",
     "output_type": "stream",
     "text": [
      "Epoch 230, loss: 524.7456583976746\nEpoch 231, loss: 524.7203888893127\nEpoch 232, loss: 524.7098313570023\nEpoch 233, loss: 524.6917061805725\n"
     ]
    },
    {
     "name": "stdout",
     "output_type": "stream",
     "text": [
      "Epoch 234, loss: 524.6710215806961\nEpoch 235, loss: 524.6561905145645\nEpoch 236, loss: 524.6691679954529\nEpoch 237, loss: 524.6633303165436\n"
     ]
    },
    {
     "name": "stdout",
     "output_type": "stream",
     "text": [
      "Epoch 238, loss: 524.5977911949158\nEpoch 239, loss: 524.6235171742737\nEpoch 240, loss: 524.5566502064466\nEpoch 241, loss: 524.5251259207726\n"
     ]
    },
    {
     "name": "stdout",
     "output_type": "stream",
     "text": [
      "Epoch 242, loss: 524.5209405422211\nEpoch 243, loss: 524.4917095154524\nEpoch 244, loss: 524.4662261009216\nEpoch 245, loss: 524.5030890703201\n"
     ]
    },
    {
     "name": "stdout",
     "output_type": "stream",
     "text": [
      "Epoch 246, loss: 524.4006552696228\nEpoch 247, loss: 524.4770169854164\nEpoch 248, loss: 524.3930943012238\nEpoch 249, loss: 524.3786601424217\n"
     ]
    },
    {
     "name": "stdout",
     "output_type": "stream",
     "text": [
      "Epoch 250, loss: 524.3450455665588\nEpoch 251, loss: 524.3499678969383\nEpoch 252, loss: 524.3519639968872\n"
     ]
    },
    {
     "name": "stdout",
     "output_type": "stream",
     "text": [
      "Epoch 253, loss: 524.2896661758423\nEpoch 254, loss: 524.3273412585258\nEpoch 255, loss: 524.3128080368042\nEpoch 256, loss: 524.2484385967255\n"
     ]
    },
    {
     "name": "stdout",
     "output_type": "stream",
     "text": [
      "Epoch 257, loss: 524.2274572849274\nEpoch 258, loss: 524.223626613617\nEpoch 259, loss: 524.2484218478203\nEpoch 260, loss: 524.2565447092056\n"
     ]
    },
    {
     "name": "stdout",
     "output_type": "stream",
     "text": [
      "Epoch 261, loss: 524.2244071960449\nEpoch 262, loss: 524.176553606987\nEpoch 263, loss: 524.2131124138832\nEpoch 264, loss: 524.1203994750977\n"
     ]
    },
    {
     "name": "stdout",
     "output_type": "stream",
     "text": [
      "Epoch 265, loss: 524.1185641288757\nEpoch 266, loss: 524.0626516342163\nEpoch 267, loss: 524.0317611694336\nEpoch 268, loss: 524.0300372838974\n"
     ]
    },
    {
     "name": "stdout",
     "output_type": "stream",
     "text": [
      "Epoch 269, loss: 524.0020834207535\nEpoch 270, loss: 524.0449388027191\nEpoch 271, loss: 523.9885753393173\nEpoch 272, loss: 523.9967221021652\n"
     ]
    },
    {
     "name": "stdout",
     "output_type": "stream",
     "text": [
      "Epoch 273, loss: 523.9745469093323\nEpoch 274, loss: 523.9792157411575\nEpoch 275, loss: 523.9381073713303\nEpoch 276, loss: 523.924778342247\n"
     ]
    },
    {
     "name": "stdout",
     "output_type": "stream",
     "text": [
      "Epoch 277, loss: 523.9715637564659\nEpoch 278, loss: 523.8908267021179\nEpoch 279, loss: 523.8536310195923\nEpoch 280, loss: 523.8013577461243\n"
     ]
    },
    {
     "name": "stdout",
     "output_type": "stream",
     "text": [
      "Epoch 281, loss: 523.804368019104\nEpoch 282, loss: 523.7601270675659\nEpoch 283, loss: 523.8525655269623\nEpoch 284, loss: 523.809096634388\n"
     ]
    },
    {
     "name": "stdout",
     "output_type": "stream",
     "text": [
      "Epoch 285, loss: 523.7414391636848\nEpoch 286, loss: 523.7692179679871\nEpoch 287, loss: 523.7052555084229\nEpoch 288, loss: 523.6728942394257\n"
     ]
    },
    {
     "name": "stdout",
     "output_type": "stream",
     "text": [
      "Epoch 289, loss: 523.6932834386826\nEpoch 290, loss: 523.6764246821404\nEpoch 291, loss: 523.6222068071365\nEpoch 292, loss: 523.6173415035009\n"
     ]
    },
    {
     "name": "stdout",
     "output_type": "stream",
     "text": [
      "Epoch 293, loss: 523.5674120336771\nEpoch 294, loss: 523.6065919399261\nEpoch 295, loss: 523.5998311042786\nEpoch 296, loss: 523.5244407653809\n"
     ]
    },
    {
     "name": "stdout",
     "output_type": "stream",
     "text": [
      "Epoch 297, loss: 523.5362892150879\nEpoch 298, loss: 523.5196781158447\nEpoch 299, loss: 523.5380804538727\nEpoch 300, loss: 523.4875339269638\n"
     ]
    },
    {
     "name": "stdout",
     "output_type": "stream",
     "text": [
      "Epoch 301, loss: 523.5306822061539\nEpoch 302, loss: 523.4587054252625\nEpoch 303, loss: 523.4468333721161\nEpoch 304, loss: 523.4025855958462\n"
     ]
    },
    {
     "name": "stdout",
     "output_type": "stream",
     "text": [
      "Epoch 305, loss: 523.3936243057251\n"
     ]
    },
    {
     "name": "stdout",
     "output_type": "stream",
     "text": [
      "Epoch 306, loss: 523.3755089044571\nEpoch 307, loss: 523.3639578819275\nEpoch 308, loss: 523.3405079096556\nEpoch 309, loss: 523.3485665917397\n"
     ]
    },
    {
     "name": "stdout",
     "output_type": "stream",
     "text": [
      "Epoch 310, loss: 523.3259952068329\nEpoch 311, loss: 523.3125207424164\nEpoch 312, loss: 523.2686824798584\nEpoch 313, loss: 523.3079227209091\n"
     ]
    },
    {
     "name": "stdout",
     "output_type": "stream",
     "text": [
      "Epoch 314, loss: 523.2279670238495\nEpoch 315, loss: 523.2640191316605\nEpoch 316, loss: 523.2107096910477\nEpoch 317, loss: 523.178618311882\n"
     ]
    },
    {
     "name": "stdout",
     "output_type": "stream",
     "text": [
      "Epoch 318, loss: 523.2668204307556\nEpoch 319, loss: 523.1459693908691\nEpoch 320, loss: 523.1487326025963\nEpoch 321, loss: 523.1269925832748\n"
     ]
    },
    {
     "name": "stdout",
     "output_type": "stream",
     "text": [
      "Epoch 322, loss: 523.0947127342224\nEpoch 323, loss: 523.10225507617\nEpoch 324, loss: 523.0609855651855\nEpoch 325, loss: 523.0608005523682\n"
     ]
    },
    {
     "name": "stdout",
     "output_type": "stream",
     "text": [
      "Epoch 326, loss: 522.9880439043045\nEpoch 327, loss: 522.9639275074005\nEpoch 328, loss: 522.960254073143\nEpoch 329, loss: 522.9986492395401\n"
     ]
    },
    {
     "name": "stdout",
     "output_type": "stream",
     "text": [
      "Epoch 330, loss: 523.026153087616\nEpoch 331, loss: 522.9305707216263\nEpoch 332, loss: 522.9574115276337\nEpoch 333, loss: 522.9704557657242\n"
     ]
    },
    {
     "name": "stdout",
     "output_type": "stream",
     "text": [
      "Epoch 334, loss: 522.8843042850494\nEpoch 335, loss: 522.8635842204094\nEpoch 336, loss: 522.8801236450672\nEpoch 337, loss: 522.9147777557373\n"
     ]
    },
    {
     "name": "stdout",
     "output_type": "stream",
     "text": [
      "Epoch 338, loss: 522.8588871955872\nEpoch 339, loss: 522.7860078811646\nEpoch 340, loss: 522.7839725315571\nEpoch 341, loss: 522.7508208751678\n"
     ]
    },
    {
     "name": "stdout",
     "output_type": "stream",
     "text": [
      "Epoch 342, loss: 522.7757341861725\nEpoch 343, loss: 522.8119168877602\nEpoch 344, loss: 522.7694880962372\nEpoch 345, loss: 522.7333135604858\n"
     ]
    },
    {
     "name": "stdout",
     "output_type": "stream",
     "text": [
      "Epoch 346, loss: 522.7156885266304\nEpoch 347, loss: 522.6306235790253\nEpoch 348, loss: 522.6707639694214\nEpoch 349, loss: 522.6692090034485\n"
     ]
    },
    {
     "name": "stdout",
     "output_type": "stream",
     "text": [
      "Epoch 350, loss: 522.6394081115723\nEpoch 351, loss: 522.6440635621548\nEpoch 352, loss: 522.6242069005966\nEpoch 353, loss: 522.6230078935623"
     ]
    },
    {
     "name": "stdout",
     "output_type": "stream",
     "text": [
      "\nEpoch 354, loss: 522.6341904401779\nEpoch 355, loss: 522.6723911762238\nEpoch 356, loss: 522.5104945898056\nEpoch 357, loss: 522.5363701581955"
     ]
    },
    {
     "name": "stdout",
     "output_type": "stream",
     "text": [
      "\nEpoch 358, loss: 522.4945334792137\nEpoch 359, loss: 522.4911980628967\nEpoch 360, loss: 522.4922285079956\nEpoch 361, loss: 522.471849322319\n"
     ]
    },
    {
     "name": "stdout",
     "output_type": "stream",
     "text": [
      "Epoch 362, loss: 522.4641291871667\nEpoch 363, loss: 522.4498962163925\nEpoch 364, loss: 522.3988611698151\nEpoch 365, loss: 522.3776363134384\n"
     ]
    },
    {
     "name": "stdout",
     "output_type": "stream",
     "text": [
      "Epoch 366, loss: 522.4011250138283\nEpoch 367, loss: 522.3513658046722\nEpoch 368, loss: 522.3179448843002\nEpoch 369, loss: 522.3133924007416\n"
     ]
    },
    {
     "name": "stdout",
     "output_type": "stream",
     "text": [
      "Epoch 370, loss: 522.2891716957092\nEpoch 371, loss: 522.2637218236923\nEpoch 372, loss: 522.3034862875938\n"
     ]
    },
    {
     "name": "stdout",
     "output_type": "stream",
     "text": [
      "Epoch 373, loss: 522.2518107891083\nEpoch 374, loss: 522.2244750261307\nEpoch 375, loss: 522.2587075531483\nEpoch 376, loss: 522.2240710258484\n"
     ]
    },
    {
     "name": "stdout",
     "output_type": "stream",
     "text": [
      "Epoch 377, loss: 522.1901364326477\nEpoch 378, loss: 522.1463623046875\nEpoch 379, loss: 522.1446068286896\nEpoch 380, loss: 522.2083144187927\n"
     ]
    },
    {
     "name": "stdout",
     "output_type": "stream",
     "text": [
      "Epoch 381, loss: 522.1135495901108\nEpoch 382, loss: 522.1449890136719\nEpoch 383, loss: 522.1414141654968\n"
     ]
    },
    {
     "name": "stdout",
     "output_type": "stream",
     "text": [
      "Epoch 384, loss: 522.0812447071075\nEpoch 385, loss: 522.0614042878151\nEpoch 386, loss: 522.0516004562378\nEpoch 387, loss: 522.0461866855621\n"
     ]
    },
    {
     "name": "stdout",
     "output_type": "stream",
     "text": [
      "Epoch 388, loss: 522.0235262513161\nEpoch 389, loss: 521.9994177222252\nEpoch 390, loss: 522.0209718942642\nEpoch 391, loss: 521.9731465578079\n"
     ]
    },
    {
     "name": "stdout",
     "output_type": "stream",
     "text": [
      "Epoch 392, loss: 521.9824434518814\nEpoch 393, loss: 521.954058766365\nEpoch 394, loss: 521.873619556427\nEpoch 395, loss: 521.871454000473\n"
     ]
    },
    {
     "name": "stdout",
     "output_type": "stream",
     "text": [
      "Epoch 396, loss: 521.8889107704163\nEpoch 397, loss: 521.8733332157135\nEpoch 398, loss: 521.8825746178627\nEpoch 399, loss: 521.8364238739014\n"
     ]
    },
    {
     "name": "stdout",
     "output_type": "stream",
     "text": [
      "Epoch 400, loss: 521.8380455970764\nEpoch 401, loss: 521.8923739790916\nEpoch 402, loss: 521.8228542804718\nEpoch 403, loss: 521.8037691116333\n"
     ]
    },
    {
     "name": "stdout",
     "output_type": "stream",
     "text": [
      "Epoch 404, loss: 521.7920843362808\nEpoch 405, loss: 521.7746527194977\nEpoch 406, loss: 521.7560595273972\nEpoch 407, loss: 521.6920434236526\n"
     ]
    },
    {
     "name": "stdout",
     "output_type": "stream",
     "text": [
      "Epoch 408, loss: 521.6780632734299\nEpoch 409, loss: 521.7553812563419\nEpoch 410, loss: 521.6549030542374\nEpoch 411, loss: 521.7030464708805\n"
     ]
    },
    {
     "name": "stdout",
     "output_type": "stream",
     "text": [
      "Epoch 412, loss: 521.6950277090073\nEpoch 413, loss: 521.6357290744781\nEpoch 414, loss: 521.6322574615479\nEpoch 415, loss: 521.5962491035461\n"
     ]
    },
    {
     "name": "stdout",
     "output_type": "stream",
     "text": [
      "Epoch 416, loss: 521.601470708847\nEpoch 417, loss: 521.5897325277328\nEpoch 418, loss: 521.5289101600647\nEpoch 419, loss: 521.57777094841\n"
     ]
    },
    {
     "name": "stdout",
     "output_type": "stream",
     "text": [
      "Epoch 420, loss: 521.5520998239517\nEpoch 421, loss: 521.5072230100632\nEpoch 422, loss: 521.5379989147186\nEpoch 423, loss: 521.5150104761124\n"
     ]
    },
    {
     "name": "stdout",
     "output_type": "stream",
     "text": [
      "Epoch 424, loss: 521.4839634895325\nEpoch 425, loss: 521.4419935941696\nEpoch 426, loss: 521.4554966390133\nEpoch 427, loss: 521.4224262237549\n"
     ]
    },
    {
     "name": "stdout",
     "output_type": "stream",
     "text": [
      "Epoch 428, loss: 521.4075620174408\nEpoch 429, loss: 521.4789853096008\nEpoch 430, loss: 521.3527913093567\nEpoch 431, loss: 521.3787635564804\n"
     ]
    },
    {
     "name": "stdout",
     "output_type": "stream",
     "text": [
      "Epoch 432, loss: 521.3705027103424\nEpoch 433, loss: 521.3377041816711\nEpoch 434, loss: 521.3064284324646\nEpoch 435, loss: 521.3066842854023\n"
     ]
    },
    {
     "name": "stdout",
     "output_type": "stream",
     "text": [
      "Epoch 436, loss: 521.2697238922119\nEpoch 437, loss: 521.2495999336243\nEpoch 438, loss: 521.2352119684219\nEpoch 439, loss: 521.2319406270981\n"
     ]
    },
    {
     "name": "stdout",
     "output_type": "stream",
     "text": [
      "Epoch 440, loss: 521.2171483039856\nEpoch 441, loss: 521.2762546539307\nEpoch 442, loss: 521.1361900568008\nEpoch 443, loss: 521.1168732047081\n"
     ]
    },
    {
     "name": "stdout",
     "output_type": "stream",
     "text": [
      "Epoch 444, loss: 521.1519675254822\nEpoch 445, loss: 521.149094581604\nEpoch 446, loss: 521.1431751251221\nEpoch 447, loss: 521.1289041042328\n"
     ]
    },
    {
     "name": "stdout",
     "output_type": "stream",
     "text": [
      "Epoch 448, loss: 521.0652840137482\nEpoch 449, loss: 521.1291451454163\nEpoch 450, loss: 521.0207141637802\nEpoch 451, loss: 521.0533319115639\n"
     ]
    },
    {
     "name": "stdout",
     "output_type": "stream",
     "text": [
      "Epoch 452, loss: 521.1118367910385\nEpoch 453, loss: 521.0190306901932\nEpoch 454, loss: 520.98388504982\nEpoch 455, loss: 520.9616582393646\n"
     ]
    },
    {
     "name": "stdout",
     "output_type": "stream",
     "text": [
      "Epoch 456, loss: 521.0521068572998\nEpoch 457, loss: 520.9378483891487\nEpoch 458, loss: 520.9671392440796\nEpoch 459, loss: 520.9819794297218\n"
     ]
    },
    {
     "name": "stdout",
     "output_type": "stream",
     "text": [
      "Epoch 460, loss: 520.9449979066849\nEpoch 461, loss: 520.9251570999622\nEpoch 462, loss: 520.8942388296127\nEpoch 463, loss: 520.8705205917358\n"
     ]
    },
    {
     "name": "stdout",
     "output_type": "stream",
     "text": [
      "Epoch 464, loss: 520.849729180336\nEpoch 465, loss: 520.896946489811\nEpoch 466, loss: 520.7934144735336\nEpoch 467, loss: 520.8304322957993\n"
     ]
    },
    {
     "name": "stdout",
     "output_type": "stream",
     "text": [
      "Epoch 468, loss: 520.7854441404343\nEpoch 469, loss: 520.8401138782501\nEpoch 470, loss: 520.7839832305908\nEpoch 471, loss: 520.7118874788284\n"
     ]
    },
    {
     "name": "stdout",
     "output_type": "stream",
     "text": [
      "Epoch 472, loss: 520.7162379026413\nEpoch 473, loss: 520.7824923992157\nEpoch 474, loss: 520.7837393283844\nEpoch 475, loss: 520.6967290639877\n"
     ]
    },
    {
     "name": "stdout",
     "output_type": "stream",
     "text": [
      "Epoch 476, loss: 520.730295419693\nEpoch 477, loss: 520.669296503067\nEpoch 478, loss: 520.6745901107788\nEpoch 479, loss: 520.6211371123791\n"
     ]
    },
    {
     "name": "stdout",
     "output_type": "stream",
     "text": [
      "Epoch 480, loss: 520.6115403175354\nEpoch 481, loss: 520.6669244766235\nEpoch 482, loss: 520.6220374107361\nEpoch 483, loss: 520.5682973861694\n"
     ]
    },
    {
     "name": "stdout",
     "output_type": "stream",
     "text": [
      "Epoch 484, loss: 520.5603937506676\nEpoch 485, loss: 520.5825006961823\nEpoch 486, loss: 520.5248473286629\nEpoch 487, loss: 520.5331575274467\n"
     ]
    },
    {
     "name": "stdout",
     "output_type": "stream",
     "text": [
      "Epoch 488, loss: 520.5285679101944\nEpoch 489, loss: 520.5416829809546\nEpoch 490, loss: 520.4667198061943\nEpoch 491, loss: 520.4798183441162\n"
     ]
    },
    {
     "name": "stdout",
     "output_type": "stream",
     "text": [
      "Epoch 492, loss: 520.4821605682373\nEpoch 493, loss: 520.4826812744141\nEpoch 494, loss: 520.4228780269623\nEpoch 495, loss: 520.4512084126472\n"
     ]
    },
    {
     "name": "stdout",
     "output_type": "stream",
     "text": [
      "Epoch 496, loss: 520.429164648056\nEpoch 497, loss: 520.3684555888176\nEpoch 498, loss: 520.3598885536194\nEpoch 499, loss: 520.395973265171\n"
     ]
    },
    {
     "name": "stdout",
     "output_type": "stream",
     "text": [
      "Epoch 500, loss: 520.3722486495972\nEpoch 501, loss: 520.3256158828735\nEpoch 502, loss: 520.2803941965103\nEpoch 503, loss: 520.3667426109314\n"
     ]
    },
    {
     "name": "stdout",
     "output_type": "stream",
     "text": [
      "Epoch 504, loss: 520.247142791748\nEpoch 505, loss: 520.2580328583717\nEpoch 506, loss: 520.2379622459412\nEpoch 507, loss: 520.2108361721039\n"
     ]
    },
    {
     "name": "stdout",
     "output_type": "stream",
     "text": [
      "Epoch 508, loss: 520.2465432882309\nEpoch 509, loss: 520.2256926298141\nEpoch 510, loss: 520.1946142017841\nEpoch 511, loss: 520.1727207899094\n"
     ]
    },
    {
     "name": "stdout",
     "output_type": "stream",
     "text": [
      "Epoch 512, loss: 520.2003041505814\nEpoch 513, loss: 520.1540186405182\nEpoch 514, loss: 520.1590664386749\nEpoch 515, loss: 520.1016365289688\n"
     ]
    },
    {
     "name": "stdout",
     "output_type": "stream",
     "text": [
      "Epoch 516, loss: 520.1225438117981\nEpoch 517, loss: 520.1636079773307\nEpoch 518, loss: 520.1020616292953\nEpoch 519, loss: 520.0957841873169\n"
     ]
    },
    {
     "name": "stdout",
     "output_type": "stream",
     "text": [
      "Epoch 520, loss: 520.0419527292252\nEpoch 521, loss: 520.0665595531464\nEpoch 522, loss: 520.0770115852356\nEpoch 523, loss: 520.0051553249359\n"
     ]
    },
    {
     "name": "stdout",
     "output_type": "stream",
     "text": [
      "Epoch 524, loss: 520.0760978460312\nEpoch 525, loss: 520.0241304636002\nEpoch 526, loss: 519.9536312818527\nEpoch 527, loss: 519.9826270341873\n"
     ]
    },
    {
     "name": "stdout",
     "output_type": "stream",
     "text": [
      "Epoch 528, loss: 519.9562783241272\nEpoch 529, loss: 519.9100703001022\nEpoch 530, loss: 519.8775637149811\n"
     ]
    },
    {
     "name": "stdout",
     "output_type": "stream",
     "text": [
      "Epoch 531, loss: 519.9482487142086\nEpoch 532, loss: 519.9112677574158\nEpoch 533, loss: 519.8811297416687\n"
     ]
    },
    {
     "name": "stdout",
     "output_type": "stream",
     "text": [
      "Epoch 534, loss: 519.8999770283699\nEpoch 535, loss: 519.8297859430313\nEpoch 536, loss: 519.8868653178215\nEpoch 537, loss: 519.8711521625519\n"
     ]
    },
    {
     "name": "stdout",
     "output_type": "stream",
     "text": [
      "Epoch 538, loss: 519.8271490931511\nEpoch 539, loss: 519.857718706131\nEpoch 540, loss: 519.7924499511719\nEpoch 541, loss: 519.7965004444122\n"
     ]
    },
    {
     "name": "stdout",
     "output_type": "stream",
     "text": [
      "Epoch 542, loss: 519.7689127922058\nEpoch 543, loss: 519.7835041582584\nEpoch 544, loss: 519.7150435447693\nEpoch 545, loss: 519.6953389644623\n"
     ]
    },
    {
     "name": "stdout",
     "output_type": "stream",
     "text": [
      "Epoch 546, loss: 519.6936167180538\nEpoch 547, loss: 519.6774217188358\nEpoch 548, loss: 519.6859681606293\nEpoch 549, loss: 519.6630389690399\n"
     ]
    },
    {
     "name": "stdout",
     "output_type": "stream",
     "text": [
      "Epoch 550, loss: 519.6974882483482\nEpoch 551, loss: 519.6293630599976\nEpoch 552, loss: 519.6180099844933\nEpoch 553, loss: 519.6264632940292\n"
     ]
    },
    {
     "name": "stdout",
     "output_type": "stream",
     "text": [
      "Epoch 554, loss: 519.602417588234\nEpoch 555, loss: 519.6041062027216\nEpoch 556, loss: 519.623945236206\nEpoch 557, loss: 519.531928896904\n"
     ]
    },
    {
     "name": "stdout",
     "output_type": "stream",
     "text": [
      "Epoch 558, loss: 519.5663406848907\nEpoch 559, loss: 519.5379178524017\nEpoch 560, loss: 519.5307705402374\nEpoch 561, loss: 519.4789035320282\n"
     ]
    },
    {
     "name": "stdout",
     "output_type": "stream",
     "text": [
      "Epoch 562, loss: 519.5006923079491\nEpoch 563, loss: 519.4678649902344\nEpoch 564, loss: 519.4223033189774\nEpoch 565, loss: 519.4362053871155\n"
     ]
    },
    {
     "name": "stdout",
     "output_type": "stream",
     "text": [
      "Epoch 566, loss: 519.445613861084\nEpoch 567, loss: 519.4873535633087\nEpoch 568, loss: 519.3886880874634\nEpoch 569, loss: 519.3802218437195\n"
     ]
    },
    {
     "name": "stdout",
     "output_type": "stream",
     "text": [
      "Epoch 570, loss: 519.373948931694\nEpoch 571, loss: 519.3527083396912\nEpoch 572, loss: 519.3447389602661\nEpoch 573, loss: 519.3223575949669\n"
     ]
    },
    {
     "name": "stdout",
     "output_type": "stream",
     "text": [
      "Epoch 574, loss: 519.3511027097702\nEpoch 575, loss: 519.291100025177\nEpoch 576, loss: 519.2771852016449\nEpoch 577, loss: 519.3047456741333\n"
     ]
    },
    {
     "name": "stdout",
     "output_type": "stream",
     "text": [
      "Epoch 578, loss: 519.2706839367747\nEpoch 579, loss: 519.2840942144394\nEpoch 580, loss: 519.280769944191\nEpoch 581, loss: 519.2149240970612\n"
     ]
    },
    {
     "name": "stdout",
     "output_type": "stream",
     "text": [
      "Epoch 582, loss: 519.2847555875778\nEpoch 583, loss: 519.1729366779327\nEpoch 584, loss: 519.1803724765778\nEpoch 585, loss: 519.1861877441406\n"
     ]
    },
    {
     "name": "stdout",
     "output_type": "stream",
     "text": [
      "Epoch 586, loss: 519.196774482727\nEpoch 587, loss: 519.1601029634476\nEpoch 588, loss: 519.1511296033859\nEpoch 589, loss: 519.1324080228806\n"
     ]
    },
    {
     "name": "stdout",
     "output_type": "stream",
     "text": [
      "Epoch 590, loss: 519.1685905456543\nEpoch 591, loss: 519.0680561065674\nEpoch 592, loss: 519.0986881256104\nEpoch 593, loss: 519.1052384972572\n"
     ]
    },
    {
     "name": "stdout",
     "output_type": "stream",
     "text": [
      "Epoch 594, loss: 519.0657162666321\nEpoch 595, loss: 519.1146097183228\nEpoch 596, loss: 519.0756311416626\nEpoch 597, loss: 519.0286866426468\n"
     ]
    },
    {
     "name": "stdout",
     "output_type": "stream",
     "text": [
      "Epoch 598, loss: 519.0270690917969\nEpoch 599, loss: 519.0258026123047\nEpoch 600, loss: 518.9877433776855\nEpoch 601, loss: 518.9879730939865\n"
     ]
    },
    {
     "name": "stdout",
     "output_type": "stream",
     "text": [
      "Epoch 602, loss: 518.9552593231201\nEpoch 603, loss: 518.9496611356735\nEpoch 604, loss: 518.9253307282925\nEpoch 605, loss: 518.9425991773605\n"
     ]
    },
    {
     "name": "stdout",
     "output_type": "stream",
     "text": [
      "Epoch 606, loss: 518.8731372356415\nEpoch 607, loss: 518.9267973899841\nEpoch 608, loss: 518.8967764377594\nEpoch 609, loss: 518.8649716377258\n"
     ]
    },
    {
     "name": "stdout",
     "output_type": "stream",
     "text": [
      "Epoch 610, loss: 518.8688411712646\nEpoch 611, loss: 518.8834502100945\nEpoch 612, loss: 518.8408133983612\nEpoch 613, loss: 518.8187394142151\n"
     ]
    },
    {
     "name": "stdout",
     "output_type": "stream",
     "text": [
      "Epoch 614, loss: 518.8059086799622\nEpoch 615, loss: 518.8049672842026\nEpoch 616, loss: 518.8127299547195\nEpoch 617, loss: 518.7600654363632\n"
     ]
    },
    {
     "name": "stdout",
     "output_type": "stream",
     "text": [
      "Epoch 618, loss: 518.753981590271\nEpoch 619, loss: 518.7645863890648\nEpoch 620, loss: 518.7532466650009\nEpoch 621, loss: 518.6768505573273\n"
     ]
    },
    {
     "name": "stdout",
     "output_type": "stream",
     "text": [
      "Epoch 622, loss: 518.763237953186\nEpoch 623, loss: 518.6998584866524\nEpoch 624, loss: 518.6879208087921\nEpoch 625, loss: 518.6718354225159\n"
     ]
    },
    {
     "name": "stdout",
     "output_type": "stream",
     "text": [
      "Epoch 626, loss: 518.62138402462\nEpoch 627, loss: 518.6646480560303\nEpoch 628, loss: 518.630165219307\nEpoch 629, loss: 518.6106195449829\n"
     ]
    },
    {
     "name": "stdout",
     "output_type": "stream",
     "text": [
      "Epoch 630, loss: 518.6209532022476\nEpoch 631, loss: 518.5474190711975\nEpoch 632, loss: 518.5490671396255\nEpoch 633, loss: 518.5669158697128\n"
     ]
    },
    {
     "name": "stdout",
     "output_type": "stream",
     "text": [
      "Epoch 634, loss: 518.5773737430573\nEpoch 635, loss: 518.547123670578\nEpoch 636, loss: 518.5038919448853\nEpoch 637, loss: 518.493661403656\n"
     ]
    },
    {
     "name": "stdout",
     "output_type": "stream",
     "text": [
      "Epoch 638, loss: 518.4856872558594\nEpoch 639, loss: 518.4935435056686\nEpoch 640, loss: 518.5246720314026\nEpoch 641, loss: 518.589015007019\n"
     ]
    },
    {
     "name": "stdout",
     "output_type": "stream",
     "text": [
      "Epoch 642, loss: 518.4696547687054\nEpoch 643, loss: 518.4389178752899\nEpoch 644, loss: 518.4483265578747\nEpoch 645, loss: 518.4466536045074\n"
     ]
    },
    {
     "name": "stdout",
     "output_type": "stream",
     "text": [
      "Epoch 646, loss: 518.4578351974487\nEpoch 647, loss: 518.3629899024963\nEpoch 648, loss: 518.3508076667786\nEpoch 649, loss: 518.3689234256744\n"
     ]
    },
    {
     "name": "stdout",
     "output_type": "stream",
     "text": [
      "Epoch 650, loss: 518.3488602638245\nEpoch 651, loss: 518.3362092971802\nEpoch 652, loss: 518.3185307979584\nEpoch 653, loss: 518.3855419158936\n"
     ]
    },
    {
     "name": "stdout",
     "output_type": "stream",
     "text": [
      "Epoch 654, loss: 518.2931808233261\nEpoch 655, loss: 518.2710061073303\nEpoch 656, loss: 518.279598236084\nEpoch 657, loss: 518.2755697965622\n"
     ]
    },
    {
     "name": "stdout",
     "output_type": "stream",
     "text": [
      "Epoch 658, loss: 518.2665796279907\nEpoch 659, loss: 518.2199315726757\nEpoch 660, loss: 518.2277843952179\nEpoch 661, loss: 518.2104563713074\n"
     ]
    },
    {
     "name": "stdout",
     "output_type": "stream",
     "text": [
      "Epoch 662, loss: 518.2079585194588\nEpoch 663, loss: 518.1410127878189\nEpoch 664, loss: 518.1867963075638\nEpoch 665, loss: 518.1851954460144\n"
     ]
    },
    {
     "name": "stdout",
     "output_type": "stream",
     "text": [
      "Epoch 666, loss: 518.2028429508209\nEpoch 667, loss: 518.1416885852814\nEpoch 668, loss: 518.1498303413391\nEpoch 669, loss: 518.1280201077461\n"
     ]
    },
    {
     "name": "stdout",
     "output_type": "stream",
     "text": [
      "Epoch 670, loss: 518.1065683364868\nEpoch 671, loss: 518.0947244167328\nEpoch 672, loss: 518.0433571338654\nEpoch 673, loss: 518.0501506328583\n"
     ]
    },
    {
     "name": "stdout",
     "output_type": "stream",
     "text": [
      "Epoch 674, loss: 518.0356822609901\nEpoch 675, loss: 518.0225970819592\nEpoch 676, loss: 518.012026309967\nEpoch 677, loss: 517.9960197210312\n"
     ]
    },
    {
     "name": "stdout",
     "output_type": "stream",
     "text": [
      "Epoch 678, loss: 518.0026700496674\nEpoch 679, loss: 517.971960067749\nEpoch 680, loss: 517.9995185136795\nEpoch 681, loss: 517.952993273735\n"
     ]
    },
    {
     "name": "stdout",
     "output_type": "stream",
     "text": [
      "Epoch 682, loss: 518.0007508993149\nEpoch 683, loss: 517.963254570961\nEpoch 684, loss: 517.9494836330414\nEpoch 685, loss: 517.902227640152\n"
     ]
    },
    {
     "name": "stdout",
     "output_type": "stream",
     "text": [
      "Epoch 686, loss: 517.9774081707001\nEpoch 687, loss: 517.9224388301373\nEpoch 688, loss: 517.9029734134674\nEpoch 689, loss: 517.9120182394981\n"
     ]
    },
    {
     "name": "stdout",
     "output_type": "stream",
     "text": [
      "Epoch 690, loss: 517.8664915561676\nEpoch 691, loss: 517.8318330049515\nEpoch 692, loss: 517.8265079259872\nEpoch 693, loss: 517.812157869339\n"
     ]
    },
    {
     "name": "stdout",
     "output_type": "stream",
     "text": [
      "Epoch 694, loss: 517.8384644985199\nEpoch 695, loss: 517.789163351059\nEpoch 696, loss: 517.7723155915737\nEpoch 697, loss: 517.8011118173599\n"
     ]
    },
    {
     "name": "stdout",
     "output_type": "stream",
     "text": [
      "Epoch 698, loss: 517.7480756640434\nEpoch 699, loss: 517.7634305357933\nEpoch 700, loss: 517.7611260414124\nEpoch 701, loss: 517.7397947311401\n"
     ]
    },
    {
     "name": "stdout",
     "output_type": "stream",
     "text": [
      "Epoch 702, loss: 517.7307938933372\nEpoch 703, loss: 517.736728310585\nEpoch 704, loss: 517.7131781578064\nEpoch 705, loss: 517.6935815811157\n"
     ]
    },
    {
     "name": "stdout",
     "output_type": "stream",
     "text": [
      "Epoch 706, loss: 517.7005642652512\nEpoch 707, loss: 517.6543962955475\nEpoch 708, loss: 517.6906850337982\nEpoch 709, loss: 517.6340260505676\n"
     ]
    },
    {
     "name": "stdout",
     "output_type": "stream",
     "text": [
      "Epoch 710, loss: 517.6010851860046\nEpoch 711, loss: 517.5825837254524\nEpoch 712, loss: 517.5854940414429\n"
     ]
    },
    {
     "name": "stdout",
     "output_type": "stream",
     "text": [
      "Epoch 713, loss: 517.5915095806122\nEpoch 714, loss: 517.5804469585419\nEpoch 715, loss: 517.5753202438354\nEpoch 716, loss: 517.5506732463837\n"
     ]
    },
    {
     "name": "stdout",
     "output_type": "stream",
     "text": [
      "Epoch 717, loss: 517.5810253322124\nEpoch 718, loss: 517.5587913990021\nEpoch 719, loss: 517.5385738611221\nEpoch 720, loss: 517.5250715613365\n"
     ]
    },
    {
     "name": "stdout",
     "output_type": "stream",
     "text": [
      "Epoch 721, loss: 517.4512777328491\nEpoch 722, loss: 517.4706082344055\nEpoch 723, loss: 517.4478777050972\nEpoch 724, loss: 517.4424078464508\n"
     ]
    },
    {
     "name": "stdout",
     "output_type": "stream",
     "text": [
      "Epoch 725, loss: 517.4143664836884\nEpoch 726, loss: 517.4536794424057\nEpoch 727, loss: 517.3809900283813\nEpoch 728, loss: 517.4617130756378\n"
     ]
    },
    {
     "name": "stdout",
     "output_type": "stream",
     "text": [
      "Epoch 729, loss: 517.3735764622688\nEpoch 730, loss: 517.429770231247\nEpoch 731, loss: 517.3954095840454\nEpoch 732, loss: 517.3627977371216\n"
     ]
    },
    {
     "name": "stdout",
     "output_type": "stream",
     "text": [
      "Epoch 733, loss: 517.3994336128235\nEpoch 734, loss: 517.3498923778534\nEpoch 735, loss: 517.3274788074195\nEpoch 736, loss: 517.350040435791\n"
     ]
    },
    {
     "name": "stdout",
     "output_type": "stream",
     "text": [
      "Epoch 737, loss: 517.313318490982\nEpoch 738, loss: 517.3200213909149\nEpoch 739, loss: 517.2753422260284\nEpoch 740, loss: 517.2871840596199\n"
     ]
    },
    {
     "name": "stdout",
     "output_type": "stream",
     "text": [
      "Epoch 741, loss: 517.2628970146179\nEpoch 742, loss: 517.2690432965755\nEpoch 743, loss: 517.2173402309418\nEpoch 744, loss: 517.2183774709702\n"
     ]
    },
    {
     "name": "stdout",
     "output_type": "stream",
     "text": [
      "Epoch 745, loss: 517.2366918325424\nEpoch 746, loss: 517.2170252799988\nEpoch 747, loss: 517.1745830178261\n"
     ]
    },
    {
     "name": "stdout",
     "output_type": "stream",
     "text": [
      "Epoch 748, loss: 517.2767931222916\nEpoch 749, loss: 517.116087436676\nEpoch 750, loss: 517.2188185155392\nEpoch 751, loss: 517.1361433267593\n"
     ]
    },
    {
     "name": "stdout",
     "output_type": "stream",
     "text": [
      "Epoch 752, loss: 517.1363768577576\nEpoch 753, loss: 517.099358856678\nEpoch 754, loss: 517.1137489676476\nEpoch 755, loss: 517.1220669746399\n"
     ]
    },
    {
     "name": "stdout",
     "output_type": "stream",
     "text": [
      "Epoch 756, loss: 517.1086845397949\nEpoch 757, loss: 517.0488426685333\nEpoch 758, loss: 517.0535161495209\nEpoch 759, loss: 517.0646455287933\n"
     ]
    },
    {
     "name": "stdout",
     "output_type": "stream",
     "text": [
      "Epoch 760, loss: 517.0037926435471\nEpoch 761, loss: 517.0193089842796\nEpoch 762, loss: 517.049379825592\nEpoch 763, loss: 516.9627575874329\n"
     ]
    },
    {
     "name": "stdout",
     "output_type": "stream",
     "text": [
      "Epoch 764, loss: 517.0094810724258\nEpoch 765, loss: 516.9431834816933\nEpoch 766, loss: 516.9867921471596\nEpoch 767, loss: 516.9234702587128\n"
     ]
    },
    {
     "name": "stdout",
     "output_type": "stream",
     "text": [
      "Epoch 768, loss: 516.9323180913925\nEpoch 769, loss: 516.9762208461761\nEpoch 770, loss: 516.9202791452408\nEpoch 771, loss: 516.8782956600189\n"
     ]
    },
    {
     "name": "stdout",
     "output_type": "stream",
     "text": [
      "Epoch 772, loss: 516.9767899513245\nEpoch 773, loss: 516.8791694641113\nEpoch 774, loss: 516.8756875395775\nEpoch 775, loss: 516.8822377026081\n"
     ]
    },
    {
     "name": "stdout",
     "output_type": "stream",
     "text": [
      "Epoch 776, loss: 516.8867281675339\nEpoch 777, loss: 516.7935514450073\nEpoch 778, loss: 516.8944083452225\nEpoch 779, loss: 516.8126701116562\n"
     ]
    },
    {
     "name": "stdout",
     "output_type": "stream",
     "text": [
      "Epoch 780, loss: 516.7597699165344\nEpoch 781, loss: 516.8412693738937\nEpoch 782, loss: 516.7669252157211\nEpoch 783, loss: 516.8242771625519\n"
     ]
    },
    {
     "name": "stdout",
     "output_type": "stream",
     "text": [
      "Epoch 784, loss: 516.777766764164\nEpoch 785, loss: 516.83382602036\nEpoch 786, loss: 516.7424936294556\nEpoch 787, loss: 516.7755244970322\n"
     ]
    },
    {
     "name": "stdout",
     "output_type": "stream",
     "text": [
      "Epoch 788, loss: 516.7300274372101\nEpoch 789, loss: 516.7170045375824\nEpoch 790, loss: 516.6592874526978\nEpoch 791, loss: 516.6888248920441\n"
     ]
    },
    {
     "name": "stdout",
     "output_type": "stream",
     "text": [
      "Epoch 792, loss: 516.6760017871857\nEpoch 793, loss: 516.7238119840622\nEpoch 794, loss: 516.6535744667053\nEpoch 795, loss: 516.6304236650467\n"
     ]
    },
    {
     "name": "stdout",
     "output_type": "stream",
     "text": [
      "Epoch 796, loss: 516.6772813796997\nEpoch 797, loss: 516.6186130046844\nEpoch 798, loss: 516.5785564780235\nEpoch 799, loss: 516.565530538559\nEpoch 800, loss: 516.573259472847"
     ]
    },
    {
     "name": "stdout",
     "output_type": "stream",
     "text": [
      "\nEpoch 801, loss: 516.5445058345795\nEpoch 802, loss: 516.5996747016907\nEpoch 803, loss: 516.5461338758469\nEpoch 804, loss: 516.5768077373505\n"
     ]
    },
    {
     "name": "stdout",
     "output_type": "stream",
     "text": [
      "Epoch 805, loss: 516.5246828198433\nEpoch 806, loss: 516.4831141233444\nEpoch 807, loss: 516.5666324496269\nEpoch 808, loss: 516.4722877293825\n"
     ]
    },
    {
     "name": "stdout",
     "output_type": "stream",
     "text": [
      "Epoch 809, loss: 516.5169574022293\nEpoch 810, loss: 516.4792869091034\nEpoch 811, loss: 516.4781510233879\nEpoch 812, loss: 516.4533488750458\n"
     ]
    },
    {
     "name": "stdout",
     "output_type": "stream",
     "text": [
      "Epoch 813, loss: 516.4723197221756\nEpoch 814, loss: 516.4190870821476\nEpoch 815, loss: 516.4486404657364\nEpoch 816, loss: 516.4341151118279\n"
     ]
    },
    {
     "name": "stdout",
     "output_type": "stream",
     "text": [
      "Epoch 817, loss: 516.4239540100098\nEpoch 818, loss: 516.3716332912445\nEpoch 819, loss: 516.345207452774\nEpoch 820, loss: 516.3542666435242\n"
     ]
    },
    {
     "name": "stdout",
     "output_type": "stream",
     "text": [
      "Epoch 821, loss: 516.387478351593\nEpoch 822, loss: 516.3629388213158\nEpoch 823, loss: 516.2948778122663\nEpoch 824, loss: 516.3438911437988"
     ]
    },
    {
     "name": "stdout",
     "output_type": "stream",
     "text": [
      "\nEpoch 825, loss: 516.3069146871567\nEpoch 826, loss: 516.2842960357666\nEpoch 827, loss: 516.26056599617\nEpoch 828, loss: 516.2768185138702\n"
     ]
    },
    {
     "name": "stdout",
     "output_type": "stream",
     "text": [
      "Epoch 829, loss: 516.283723115921\nEpoch 830, loss: 516.2744417190552\nEpoch 831, loss: 516.2601743936539\nEpoch 832, loss: 516.2111895084381\n"
     ]
    },
    {
     "name": "stdout",
     "output_type": "stream",
     "text": [
      "Epoch 833, loss: 516.2092573642731\nEpoch 834, loss: 516.1716017723083\nEpoch 835, loss: 516.180193901062\nEpoch 836, loss: 516.1940250843763\n"
     ]
    },
    {
     "name": "stdout",
     "output_type": "stream",
     "text": [
      "Epoch 837, loss: 516.1505399942398\nEpoch 838, loss: 516.1591925621033\nEpoch 839, loss: 516.1924030780792\nEpoch 840, loss: 516.1693235635757\n"
     ]
    },
    {
     "name": "stdout",
     "output_type": "stream",
     "text": [
      "Epoch 841, loss: 516.1403594017029\nEpoch 842, loss: 516.160897731781\nEpoch 843, loss: 516.1116462945938\nEpoch 844, loss: 516.0676011741161\n"
     ]
    },
    {
     "name": "stdout",
     "output_type": "stream",
     "text": [
      "Epoch 845, loss: 516.1327548027039\nEpoch 846, loss: 516.0882179737091\nEpoch 847, loss: 516.093351483345\nEpoch 848, loss: 516.0876567363739\n"
     ]
    },
    {
     "name": "stdout",
     "output_type": "stream",
     "text": [
      "Epoch 849, loss: 516.0231766402721\nEpoch 850, loss: 516.0517704486847\nEpoch 851, loss: 516.0167860984802\nEpoch 852, loss: 516.0270385742188\n"
     ]
    },
    {
     "name": "stdout",
     "output_type": "stream",
     "text": [
      "Epoch 853, loss: 516.0284540653229\nEpoch 854, loss: 515.9866344630718\nEpoch 855, loss: 515.9971694946289\nEpoch 856, loss: 516.0187270641327\n"
     ]
    },
    {
     "name": "stdout",
     "output_type": "stream",
     "text": [
      "Epoch 857, loss: 515.9153904914856\nEpoch 858, loss: 516.0008831620216\nEpoch 859, loss: 516.0074509978294\nEpoch 860, loss: 515.9466609954834\n"
     ]
    },
    {
     "name": "stdout",
     "output_type": "stream",
     "text": [
      "Epoch 861, loss: 515.8905211687088\nEpoch 862, loss: 515.9470546245575\nEpoch 863, loss: 515.9002773463726\nEpoch 864, loss: 515.8863911628723\n"
     ]
    },
    {
     "name": "stdout",
     "output_type": "stream",
     "text": [
      "Epoch 865, loss: 515.9057984948158\nEpoch 866, loss: 515.8696727752686\nEpoch 867, loss: 515.8733012676239\nEpoch 868, loss: 515.8621025085449\n"
     ]
    },
    {
     "name": "stdout",
     "output_type": "stream",
     "text": [
      "Epoch 869, loss: 515.8511791229248\nEpoch 870, loss: 515.9203226566315\nEpoch 871, loss: 515.8242861032486\nEpoch 872, loss: 515.7854955196381\n"
     ]
    },
    {
     "name": "stdout",
     "output_type": "stream",
     "text": [
      "Epoch 873, loss: 515.7767200469971\nEpoch 874, loss: 515.8144414424896\nEpoch 875, loss: 515.821871638298\nEpoch 876, loss: 515.7564599514008\n"
     ]
    },
    {
     "name": "stdout",
     "output_type": "stream",
     "text": [
      "Epoch 877, loss: 515.7747921943665\nEpoch 878, loss: 515.7512340545654\nEpoch 879, loss: 515.7117929458618\nEpoch 880, loss: 515.7217777967453\n"
     ]
    },
    {
     "name": "stdout",
     "output_type": "stream",
     "text": [
      "Epoch 881, loss: 515.7380645871162\nEpoch 882, loss: 515.7023086547852\nEpoch 883, loss: 515.6827850341797\nEpoch 884, loss: 515.6822292804718\n"
     ]
    },
    {
     "name": "stdout",
     "output_type": "stream",
     "text": [
      "Epoch 885, loss: 515.6994924545288\nEpoch 886, loss: 515.7414049953222\nEpoch 887, loss: 515.6294506788254\nEpoch 888, loss: 515.7088241577148\n"
     ]
    },
    {
     "name": "stdout",
     "output_type": "stream",
     "text": [
      "Epoch 889, loss: 515.6204824447632\nEpoch 890, loss: 515.6590070724487\nEpoch 891, loss: 515.6235115528107\nEpoch 892, loss: 515.5821132659912\n"
     ]
    },
    {
     "name": "stdout",
     "output_type": "stream",
     "text": [
      "Epoch 893, loss: 515.5779370069504\nEpoch 894, loss: 515.5746424198151\nEpoch 895, loss: 515.5727705955505\nEpoch 896, loss: 515.5366525650024\n"
     ]
    },
    {
     "name": "stdout",
     "output_type": "stream",
     "text": [
      "Epoch 897, loss: 515.5670221969485\nEpoch 898, loss: 515.5934307575226\nEpoch 899, loss: 515.5448489189148\n"
     ]
    },
    {
     "name": "stdout",
     "output_type": "stream",
     "text": [
      "Epoch 900, loss: 515.5223263502121\nEpoch 901, loss: 515.5117923021317\nEpoch 902, loss: 515.4975740909576\nEpoch 903, loss: 515.4903563261032\n"
     ]
    },
    {
     "name": "stdout",
     "output_type": "stream",
     "text": [
      "Epoch 904, loss: 515.4659106731415\nEpoch 905, loss: 515.454772233963\nEpoch 906, loss: 515.4655439257622\nEpoch 907, loss: 515.4041402339935\n"
     ]
    },
    {
     "name": "stdout",
     "output_type": "stream",
     "text": [
      "Epoch 908, loss: 515.4286170005798\nEpoch 909, loss: 515.4891605377197\nEpoch 910, loss: 515.485958814621\nEpoch 911, loss: 515.4248502254486\n"
     ]
    },
    {
     "name": "stdout",
     "output_type": "stream",
     "text": [
      "Epoch 912, loss: 515.3544992208481\nEpoch 913, loss: 515.4024003744125\nEpoch 914, loss: 515.3564686775208\nEpoch 915, loss: 515.3565794080496\n"
     ]
    },
    {
     "name": "stdout",
     "output_type": "stream",
     "text": [
      "Epoch 916, loss: 515.3617370575666\nEpoch 917, loss: 515.3194588422775\nEpoch 918, loss: 515.3405840992928\n"
     ]
    },
    {
     "name": "stdout",
     "output_type": "stream",
     "text": [
      "Epoch 919, loss: 515.3290477991104\nEpoch 920, loss: 515.2942590713501\nEpoch 921, loss: 515.3104468584061\nEpoch 922, loss: 515.2971839904785\n"
     ]
    },
    {
     "name": "stdout",
     "output_type": "stream",
     "text": [
      "Epoch 923, loss: 515.3466827869415\nEpoch 924, loss: 515.2880218029022\nEpoch 925, loss: 515.2562952041626\nEpoch 926, loss: 515.249160528183\n"
     ]
    },
    {
     "name": "stdout",
     "output_type": "stream",
     "text": [
      "Epoch 927, loss: 515.2174446582794\nEpoch 928, loss: 515.2525589466095\nEpoch 929, loss: 515.2538036108017\nEpoch 930, loss: 515.2069852352142\n"
     ]
    },
    {
     "name": "stdout",
     "output_type": "stream",
     "text": [
      "Epoch 931, loss: 515.2378128767014\nEpoch 932, loss: 515.2383749485016\nEpoch 933, loss: 515.1549298763275\n"
     ]
    },
    {
     "name": "stdout",
     "output_type": "stream",
     "text": [
      "Epoch 934, loss: 515.2048398256302\nEpoch 935, loss: 515.2474856376648\nEpoch 936, loss: 515.1631021499634\nEpoch 937, loss: 515.1202906370163\n"
     ]
    },
    {
     "name": "stdout",
     "output_type": "stream",
     "text": [
      "Epoch 938, loss: 515.121222615242\nEpoch 939, loss: 515.1701205968857\nEpoch 940, loss: 515.1195123195648\nEpoch 941, loss: 515.1053052544594\n"
     ]
    },
    {
     "name": "stdout",
     "output_type": "stream",
     "text": [
      "Epoch 942, loss: 515.0986784696579\nEpoch 943, loss: 515.097823381424\nEpoch 944, loss: 515.0747005939484\nEpoch 945, loss: 515.0591660141945\n"
     ]
    },
    {
     "name": "stdout",
     "output_type": "stream",
     "text": [
      "Epoch 946, loss: 515.0388835668564\nEpoch 947, loss: 515.0656147003174\nEpoch 948, loss: 515.0243859291077\nEpoch 949, loss: 515.0284077525139\n"
     ]
    },
    {
     "name": "stdout",
     "output_type": "stream",
     "text": [
      "Epoch 950, loss: 515.0357806682587\nEpoch 951, loss: 514.9936075210571\nEpoch 952, loss: 514.9869415163994\nEpoch 953, loss: 514.9824500083923\n"
     ]
    },
    {
     "name": "stdout",
     "output_type": "stream",
     "text": [
      "Epoch 954, loss: 515.0033085346222\nEpoch 955, loss: 515.0025110244751\nEpoch 956, loss: 514.9063469171524\nEpoch 957, loss: 514.9132943153381\n"
     ]
    },
    {
     "name": "stdout",
     "output_type": "stream",
     "text": [
      "Epoch 958, loss: 514.9481866359711\nEpoch 959, loss: 514.9338630437851\nEpoch 960, loss: 514.977724313736\nEpoch 961, loss: 514.9356698989868\n"
     ]
    },
    {
     "name": "stdout",
     "output_type": "stream",
     "text": [
      "Epoch 962, loss: 514.8995576053858\nEpoch 963, loss: 514.8986512422562\nEpoch 964, loss: 514.9525154829025\nEpoch 965, loss: 514.9476925134659\n"
     ]
    },
    {
     "name": "stdout",
     "output_type": "stream",
     "text": [
      "Epoch 966, loss: 514.9174116849899\nEpoch 967, loss: 514.8479008078575\nEpoch 968, loss: 514.867434501648\nEpoch 969, loss: 514.8765622377396\n"
     ]
    },
    {
     "name": "stdout",
     "output_type": "stream",
     "text": [
      "Epoch 970, loss: 514.861466884613\nEpoch 971, loss: 514.8542120456696\nEpoch 972, loss: 514.7978141009808\n"
     ]
    },
    {
     "name": "stdout",
     "output_type": "stream",
     "text": [
      "Epoch 973, loss: 514.775503218174\nEpoch 974, loss: 514.7618486881256\nEpoch 975, loss: 514.8192591965199\n"
     ]
    },
    {
     "name": "stdout",
     "output_type": "stream",
     "text": [
      "Epoch 976, loss: 514.7612526416779\nEpoch 977, loss: 514.7166053056717\nEpoch 978, loss: 514.7487752437592\nEpoch 979, loss: 514.7624089717865\n"
     ]
    },
    {
     "name": "stdout",
     "output_type": "stream",
     "text": [
      "Epoch 980, loss: 514.8009572029114\nEpoch 981, loss: 514.7222000956535\nEpoch 982, loss: 514.6787621974945\nEpoch 983, loss: 514.6888425350189\n"
     ]
    },
    {
     "name": "stdout",
     "output_type": "stream",
     "text": [
      "Epoch 984, loss: 514.7005665302277\nEpoch 985, loss: 514.7277557253838\nEpoch 986, loss: 514.6435552835464\nEpoch 987, loss: 514.6233203411102\n"
     ]
    },
    {
     "name": "stdout",
     "output_type": "stream",
     "text": [
      "Epoch 988, loss: 514.6666264533997\nEpoch 989, loss: 514.6440097987652\nEpoch 990, loss: 514.5898354053497\nEpoch 991, loss: 514.6411439776421\n"
     ]
    },
    {
     "name": "stdout",
     "output_type": "stream",
     "text": [
      "Epoch 992, loss: 514.6352599859238\nEpoch 993, loss: 514.6461403369904\nEpoch 994, loss: 514.6139843463898\nEpoch 995, loss: 514.5574834048748\n"
     ]
    },
    {
     "name": "stdout",
     "output_type": "stream",
     "text": [
      "Epoch 996, loss: 514.5602096319199\nEpoch 997, loss: 514.557953119278\nEpoch 998, loss: 514.5841374397278\nEpoch 999, loss: 514.5544786453247\n"
     ]
    },
    {
     "name": "stdout",
     "output_type": "stream",
     "text": [
      "Epoch 1000, loss: 514.5398211479187\nEpoch 1001, loss: 514.5116856098175\nEpoch 1002, loss: 514.4979972839355\nEpoch 1003, loss: 514.5224508047104\n"
     ]
    },
    {
     "name": "stdout",
     "output_type": "stream",
     "text": [
      "Epoch 1004, loss: 514.5071127414703\nEpoch 1005, loss: 514.4756596684456\nEpoch 1006, loss: 514.4648821353912\nEpoch 1007, loss: 514.4280616044998\n"
     ]
    },
    {
     "name": "stdout",
     "output_type": "stream",
     "text": [
      "Epoch 1008, loss: 514.4409325122833\nEpoch 1009, loss: 514.4502549469471\nEpoch 1010, loss: 514.4127819240093\nEpoch 1011, loss: 514.475005030632\n"
     ]
    },
    {
     "name": "stdout",
     "output_type": "stream",
     "text": [
      "Epoch 1012, loss: 514.4023503214121\nEpoch 1013, loss: 514.3845221996307\nEpoch 1014, loss: 514.4353730380535\nEpoch 1015, loss: 514.3915429115295\n"
     ]
    },
    {
     "name": "stdout",
     "output_type": "stream",
     "text": [
      "Epoch 1016, loss: 514.3845046758652\nEpoch 1017, loss: 514.3617360591888\nEpoch 1018, loss: 514.3883562088013\nEpoch 1019, loss: 514.3740292787552\n"
     ]
    },
    {
     "name": "stdout",
     "output_type": "stream",
     "text": [
      "Epoch 1020, loss: 514.3366637825966\nEpoch 1021, loss: 514.3253428936005\nEpoch 1022, loss: 514.297446846962\nEpoch 1023, loss: 514.294614970684\n"
     ]
    },
    {
     "name": "stdout",
     "output_type": "stream",
     "text": [
      "Epoch 1024, loss: 514.2966940999031\nEpoch 1025, loss: 514.2609976530075\nEpoch 1026, loss: 514.3348245620728\nEpoch 1027, loss: 514.2550722956657\n"
     ]
    },
    {
     "name": "stdout",
     "output_type": "stream",
     "text": [
      "Epoch 1028, loss: 514.2718510627747\nEpoch 1029, loss: 514.2962423563004\nEpoch 1030, loss: 514.2556173801422\nEpoch 1031, loss: 514.2030447721481\n"
     ]
    },
    {
     "name": "stdout",
     "output_type": "stream",
     "text": [
      "Epoch 1032, loss: 514.1972441673279\nEpoch 1033, loss: 514.2057242393494\nEpoch 1034, loss: 514.177840590477\nEpoch 1035, loss: 514.191532254219\n"
     ]
    },
    {
     "name": "stdout",
     "output_type": "stream",
     "text": [
      "Epoch 1036, loss: 514.2525380849838\nEpoch 1037, loss: 514.1907451152802\nEpoch 1038, loss: 514.215060710907\nEpoch 1039, loss: 514.1377756595612\n"
     ]
    },
    {
     "name": "stdout",
     "output_type": "stream",
     "text": [
      "Epoch 1040, loss: 514.1358482837677\nEpoch 1041, loss: 514.1299073696136\nEpoch 1042, loss: 514.1275584697723\nEpoch 1043, loss: 514.1032264232635\n"
     ]
    },
    {
     "name": "stdout",
     "output_type": "stream",
     "text": [
      "Epoch 1044, loss: 514.0923960208893\nEpoch 1045, loss: 514.0927948951721\nEpoch 1046, loss: 514.1047205924988\nEpoch 1047, loss: 514.0905125141144\n"
     ]
    },
    {
     "name": "stdout",
     "output_type": "stream",
     "text": [
      "Epoch 1048, loss: 514.0536838769913\nEpoch 1049, loss: 514.1059016287327\nEpoch 1050, loss: 514.0451912879944\nEpoch 1051, loss: 514.0478127002716\n"
     ]
    },
    {
     "name": "stdout",
     "output_type": "stream",
     "text": [
      "Epoch 1052, loss: 514.02441573143\nEpoch 1053, loss: 514.0476807355881\nEpoch 1054, loss: 513.9821269214153\nEpoch 1055, loss: 514.0035419464111\n"
     ]
    },
    {
     "name": "stdout",
     "output_type": "stream",
     "text": [
      "Epoch 1056, loss: 514.0014604330063\nEpoch 1057, loss: 514.0068635940552\nEpoch 1058, loss: 514.0043431520462\nEpoch 1059, loss: 513.9625273942947\n"
     ]
    },
    {
     "name": "stdout",
     "output_type": "stream",
     "text": [
      "Epoch 1060, loss: 513.9713653326035\nEpoch 1061, loss: 514.0640941262245\nEpoch 1062, loss: 513.932119846344\nEpoch 1063, loss: 513.9555686116219\n"
     ]
    },
    {
     "name": "stdout",
     "output_type": "stream",
     "text": [
      "Epoch 1064, loss: 513.9346987605095\nEpoch 1065, loss: 513.9449889659882\nEpoch 1066, loss: 513.9178095459938\nEpoch 1067, loss: 513.9112805128098\n"
     ]
    },
    {
     "name": "stdout",
     "output_type": "stream",
     "text": [
      "Epoch 1068, loss: 513.9487297832966\nEpoch 1069, loss: 513.8705167770386\nEpoch 1070, loss: 513.9186626672745\nEpoch 1071, loss: 513.8325169086456\n"
     ]
    },
    {
     "name": "stdout",
     "output_type": "stream",
     "text": [
      "Epoch 1072, loss: 513.8453726768494\nEpoch 1073, loss: 513.8080650568008\nEpoch 1074, loss: 513.8424834012985\nEpoch 1075, loss: 513.8620834350586\n"
     ]
    },
    {
     "name": "stdout",
     "output_type": "stream",
     "text": [
      "Epoch 1076, loss: 513.8653267025948\nEpoch 1077, loss: 513.808366894722\nEpoch 1078, loss: 513.8282144069672\nEpoch 1079, loss: 513.8176227807999\n"
     ]
    },
    {
     "name": "stdout",
     "output_type": "stream",
     "text": [
      "Epoch 1080, loss: 513.8338108062744\nEpoch 1081, loss: 513.7913616895676\nEpoch 1082, loss: 513.7676331996918\nEpoch 1083, loss: 513.7305771708488\n"
     ]
    },
    {
     "name": "stdout",
     "output_type": "stream",
     "text": [
      "Epoch 1084, loss: 513.7671228796244\nEpoch 1085, loss: 513.7098097205162\nEpoch 1086, loss: 513.7330801486969\nEpoch 1087, loss: 513.6929544210434\n"
     ]
    },
    {
     "name": "stdout",
     "output_type": "stream",
     "text": [
      "Epoch 1088, loss: 513.728762626648\nEpoch 1089, loss: 513.6778454780579\nEpoch 1090, loss: 513.7262288928032\nEpoch 1091, loss: 513.6670879721642\n"
     ]
    },
    {
     "name": "stdout",
     "output_type": "stream",
     "text": [
      "Epoch 1092, loss: 513.6684448719025\nEpoch 1093, loss: 513.6901603937149\nEpoch 1094, loss: 513.6504989117384\nEpoch 1095, loss: 513.6207983493805\n"
     ]
    },
    {
     "name": "stdout",
     "output_type": "stream",
     "text": [
      "Epoch 1096, loss: 513.6905336380005\nEpoch 1097, loss: 513.5963444709778\nEpoch 1098, loss: 513.644711971283\nEpoch 1099, loss: 513.5786628723145\n"
     ]
    },
    {
     "name": "stdout",
     "output_type": "stream",
     "text": [
      "Epoch 1100, loss: 513.6012283563614\nEpoch 1101, loss: 513.6368299126625\nEpoch 1102, loss: 513.575776040554\nEpoch 1103, loss: 513.5732072591782\n"
     ]
    },
    {
     "name": "stdout",
     "output_type": "stream",
     "text": [
      "Epoch 1104, loss: 513.557724237442\nEpoch 1105, loss: 513.6058928966522\nEpoch 1106, loss: 513.5023465156555\nEpoch 1107, loss: 513.5310382843018\n"
     ]
    },
    {
     "name": "stdout",
     "output_type": "stream",
     "text": [
      "Epoch 1108, loss: 513.5067732334137\nEpoch 1109, loss: 513.4737511575222\nEpoch 1110, loss: 513.507925838232\nEpoch 1111, loss: 513.522777736187\n"
     ]
    },
    {
     "name": "stdout",
     "output_type": "stream",
     "text": [
      "Epoch 1112, loss: 513.5434695780277\nEpoch 1113, loss: 513.4841786697507\nEpoch 1114, loss: 513.4964847564697\nEpoch 1115, loss: 513.4508934020996\n"
     ]
    },
    {
     "name": "stdout",
     "output_type": "stream",
     "text": [
      "Epoch 1116, loss: 513.5053853988647\nEpoch 1117, loss: 513.4617666006088\nEpoch 1118, loss: 513.3983325958252\nEpoch 1119, loss: 513.3946568965912\n"
     ]
    },
    {
     "name": "stdout",
     "output_type": "stream",
     "text": [
      "Epoch 1120, loss: 513.4050441980362\nEpoch 1121, loss: 513.4171158671379\nEpoch 1122, loss: 513.3946806788445\nEpoch 1123, loss: 513.4737567901611\n"
     ]
    },
    {
     "name": "stdout",
     "output_type": "stream",
     "text": [
      "Epoch 1124, loss: 513.3921342492104\nEpoch 1125, loss: 513.3609395027161\nEpoch 1126, loss: 513.3478813171387\nEpoch 1127, loss: 513.3374978303909\n"
     ]
    },
    {
     "name": "stdout",
     "output_type": "stream",
     "text": [
      "Epoch 1128, loss: 513.3518614768982\nEpoch 1129, loss: 513.3576728105545\nEpoch 1130, loss: 513.3423466682434\nEpoch 1131, loss: 513.3264511227608\n"
     ]
    },
    {
     "name": "stdout",
     "output_type": "stream",
     "text": [
      "Epoch 1132, loss: 513.3615884780884\nEpoch 1133, loss: 513.2718034982681\nEpoch 1134, loss: 513.299285441637\nEpoch 1135, loss: 513.3163532018661\n"
     ]
    },
    {
     "name": "stdout",
     "output_type": "stream",
     "text": [
      "Epoch 1136, loss: 513.2336894571781\nEpoch 1137, loss: 513.3195641040802\nEpoch 1138, loss: 513.2573972940445\nEpoch 1139, loss: 513.2447429895401\n"
     ]
    },
    {
     "name": "stdout",
     "output_type": "stream",
     "text": [
      "Epoch 1140, loss: 513.2419050335884\nEpoch 1141, loss: 513.2709065675735\nEpoch 1142, loss: 513.3013731241226\nEpoch 1143, loss: 513.1965699195862\n"
     ]
    },
    {
     "name": "stdout",
     "output_type": "stream",
     "text": [
      "Epoch 1144, loss: 513.1982233524323\nEpoch 1145, loss: 513.2097367048264\nEpoch 1146, loss: 513.1999750137329\nEpoch 1147, loss: 513.176383972168\n"
     ]
    },
    {
     "name": "stdout",
     "output_type": "stream",
     "text": [
      "Epoch 1148, loss: 513.2191906571388\nEpoch 1149, loss: 513.2109591960907\nEpoch 1150, loss: 513.1207320690155\nEpoch 1151, loss: 513.1100239753723\n"
     ]
    },
    {
     "name": "stdout",
     "output_type": "stream",
     "text": [
      "Epoch 1152, loss: 513.2029247432947\nEpoch 1153, loss: 513.1705002784729\nEpoch 1154, loss: 513.1040087938309\nEpoch 1155, loss: 513.122297167778\n"
     ]
    },
    {
     "name": "stdout",
     "output_type": "stream",
     "text": [
      "Epoch 1156, loss: 513.1196701526642\nEpoch 1157, loss: 513.1214858293533\nEpoch 1158, loss: 513.1025381833315\nEpoch 1159, loss: 513.0643482208252\n"
     ]
    },
    {
     "name": "stdout",
     "output_type": "stream",
     "text": [
      "Epoch 1160, loss: 513.0946047902107\nEpoch 1161, loss: 513.0722969770432\nEpoch 1162, loss: 513.024987578392\nEpoch 1163, loss: 513.0331830978394\n"
     ]
    },
    {
     "name": "stdout",
     "output_type": "stream",
     "text": [
      "Epoch 1164, loss: 513.0556985735893\nEpoch 1165, loss: 513.0734949111938\nEpoch 1166, loss: 513.0293641090393\nEpoch 1167, loss: 512.9941815137863\n"
     ]
    },
    {
     "name": "stdout",
     "output_type": "stream",
     "text": [
      "Epoch 1168, loss: 513.0361909866333\nEpoch 1169, loss: 513.0092150270939\nEpoch 1170, loss: 512.9901173114777\nEpoch 1171, loss: 513.0106120109558\n"
     ]
    },
    {
     "name": "stdout",
     "output_type": "stream",
     "text": [
      "Epoch 1172, loss: 512.9689437747002\nEpoch 1173, loss: 512.943820297718\nEpoch 1174, loss: 512.959198474884\nEpoch 1175, loss: 512.9944189786911\n"
     ]
    },
    {
     "name": "stdout",
     "output_type": "stream",
     "text": [
      "Epoch 1176, loss: 512.9205812215805\nEpoch 1177, loss: 512.9448421001434\nEpoch 1178, loss: 512.9651126861572\nEpoch 1179, loss: 512.9167952537537\n"
     ]
    },
    {
     "name": "stdout",
     "output_type": "stream",
     "text": [
      "Epoch 1180, loss: 512.916377902031\nEpoch 1181, loss: 512.8777313232422\nEpoch 1182, loss: 512.9035568833351\nEpoch 1183, loss: 512.8453139066696\n"
     ]
    },
    {
     "name": "stdout",
     "output_type": "stream",
     "text": [
      "Epoch 1184, loss: 512.8896524906158\nEpoch 1185, loss: 512.8683497905731\nEpoch 1186, loss: 512.8557385206223\nEpoch 1187, loss: 512.822673022747\n"
     ]
    },
    {
     "name": "stdout",
     "output_type": "stream",
     "text": [
      "Epoch 1188, loss: 512.8305510282516\nEpoch 1189, loss: 512.8144409656525\nEpoch 1190, loss: 512.8565051555634\nEpoch 1191, loss: 512.8013564348221\n"
     ]
    },
    {
     "name": "stdout",
     "output_type": "stream",
     "text": [
      "Epoch 1192, loss: 512.8329104185104\nEpoch 1193, loss: 512.7751407623291\nEpoch 1194, loss: 512.7881362438202\nEpoch 1195, loss: 512.786069393158\n"
     ]
    },
    {
     "name": "stdout",
     "output_type": "stream",
     "text": [
      "Epoch 1196, loss: 512.7522442340851\nEpoch 1197, loss: 512.7707762718201\nEpoch 1198, loss: 512.7515873908997\nEpoch 1199, loss: 512.787168264389\n"
     ]
    },
    {
     "name": "stdout",
     "output_type": "stream",
     "text": [
      "Epoch 1200, loss: 512.7579255104065\nEpoch 1201, loss: 512.7581043243408\nEpoch 1202, loss: 512.7608940601349\nEpoch 1203, loss: 512.6638672351837\n"
     ]
    },
    {
     "name": "stdout",
     "output_type": "stream",
     "text": [
      "Epoch 1204, loss: 512.7056021690369\nEpoch 1205, loss: 512.6919660568237\nEpoch 1206, loss: 512.6600822210312\nEpoch 1207, loss: 512.6663845777512\n"
     ]
    },
    {
     "name": "stdout",
     "output_type": "stream",
     "text": [
      "Epoch 1208, loss: 512.6538226604462\nEpoch 1209, loss: 512.6824538707733\nEpoch 1210, loss: 512.6389925479889\nEpoch 1211, loss: 512.700847029686\n"
     ]
    },
    {
     "name": "stdout",
     "output_type": "stream",
     "text": [
      "Epoch 1212, loss: 512.6421023607254\nEpoch 1213, loss: 512.5907402336597\nEpoch 1214, loss: 512.6599807739258\nEpoch 1215, loss: 512.576145529747\n"
     ]
    },
    {
     "name": "stdout",
     "output_type": "stream",
     "text": [
      "Epoch 1216, loss: 512.5682529211044\nEpoch 1217, loss: 512.606169462204\nEpoch 1218, loss: 512.5753735899925\nEpoch 1219, loss: 512.602997303009\n"
     ]
    },
    {
     "name": "stdout",
     "output_type": "stream",
     "text": [
      "Epoch 1220, loss: 512.5631864070892\nEpoch 1221, loss: 512.5942206382751\nEpoch 1222, loss: 512.5385864973068\nEpoch 1223, loss: 512.5035165548325\n"
     ]
    },
    {
     "name": "stdout",
     "output_type": "stream",
     "text": [
      "Epoch 1224, loss: 512.5393181443214\nEpoch 1225, loss: 512.5504596233368\nEpoch 1226, loss: 512.5521245002747\nEpoch 1227, loss: 512.5291724205017\n"
     ]
    },
    {
     "name": "stdout",
     "output_type": "stream",
     "text": [
      "Epoch 1228, loss: 512.4755184650421\nEpoch 1229, loss: 512.5055586695671\nEpoch 1230, loss: 512.4670308828354\nEpoch 1231, loss: 512.5375709533691\n"
     ]
    },
    {
     "name": "stdout",
     "output_type": "stream",
     "text": [
      "Epoch 1232, loss: 512.4513471126556\nEpoch 1233, loss: 512.4951689243317\nEpoch 1234, loss: 512.4305980205536\nEpoch 1235, loss: 512.4682618677616\nEpoch 1236, loss: 512.4501094818115\n"
     ]
    },
    {
     "name": "stdout",
     "output_type": "stream",
     "text": [
      "Epoch 1237, loss: 512.4016129374504\nEpoch 1238, loss: 512.4294559955597\nEpoch 1239, loss: 512.3494840860367\n"
     ]
    },
    {
     "name": "stdout",
     "output_type": "stream",
     "text": [
      "Epoch 1240, loss: 512.4039472341537\nEpoch 1241, loss: 512.3841924667358\nEpoch 1242, loss: 512.3914604187012\nEpoch 1243, loss: 512.364559173584\n"
     ]
    },
    {
     "name": "stdout",
     "output_type": "stream",
     "text": [
      "Epoch 1244, loss: 512.3739821314812\nEpoch 1245, loss: 512.3565354347229\nEpoch 1246, loss: 512.3055106401443\nEpoch 1247, loss: 512.3423194885254\n"
     ]
    },
    {
     "name": "stdout",
     "output_type": "stream",
     "text": [
      "Epoch 1248, loss: 512.2849140167236\nEpoch 1249, loss: 512.3505753278732\nEpoch 1250, loss: 512.3654478788376\nEpoch 1251, loss: 512.3295369893312\n"
     ]
    },
    {
     "name": "stdout",
     "output_type": "stream",
     "text": [
      "Epoch 1252, loss: 512.2977808713913\nEpoch 1253, loss: 512.3112542629242\nEpoch 1254, loss: 512.3228012919426\n"
     ]
    },
    {
     "name": "stdout",
     "output_type": "stream",
     "text": [
      "Epoch 1255, loss: 512.2823660075665\nEpoch 1256, loss: 512.2736507058144\nEpoch 1257, loss: 512.2814571857452\nEpoch 1258, loss: 512.3493237495422\n"
     ]
    },
    {
     "name": "stdout",
     "output_type": "stream",
     "text": [
      "Epoch 1259, loss: 512.256157040596\nEpoch 1260, loss: 512.2623170614243\nEpoch 1261, loss: 512.2128774523735\nEpoch 1262, loss: 512.1924706548452\n"
     ]
    },
    {
     "name": "stdout",
     "output_type": "stream",
     "text": [
      "Epoch 1263, loss: 512.2056846618652\nEpoch 1264, loss: 512.2210055589676\nEpoch 1265, loss: 512.2210733890533\nEpoch 1266, loss: 512.189201593399\n"
     ]
    },
    {
     "name": "stdout",
     "output_type": "stream",
     "text": [
      "Epoch 1267, loss: 512.2282744050026\nEpoch 1268, loss: 512.1764769554138\nEpoch 1269, loss: 512.206715285778\nEpoch 1270, loss: 512.1573193073273\n"
     ]
    },
    {
     "name": "stdout",
     "output_type": "stream",
     "text": [
      "Epoch 1271, loss: 512.1412782669067\nEpoch 1272, loss: 512.126148879528\nEpoch 1273, loss: 512.0935645103455\n"
     ]
    },
    {
     "name": "stdout",
     "output_type": "stream",
     "text": [
      "Epoch 1274, loss: 512.1259920597076\nEpoch 1275, loss: 512.1092858910561\nEpoch 1276, loss: 512.1014719009399\nEpoch 1277, loss: 512.0790500640869\n"
     ]
    },
    {
     "name": "stdout",
     "output_type": "stream",
     "text": [
      "Epoch 1278, loss: 512.1031608581543\nEpoch 1279, loss: 512.107431769371\nEpoch 1280, loss: 512.0770607590675\nEpoch 1281, loss: 512.093671798706\n"
     ]
    },
    {
     "name": "stdout",
     "output_type": "stream",
     "text": [
      "Epoch 1282, loss: 512.0746611356735\nEpoch 1283, loss: 512.0667814016342\nEpoch 1284, loss: 512.0390870571136\nEpoch 1285, loss: 512.0025100708008\n"
     ]
    },
    {
     "name": "stdout",
     "output_type": "stream",
     "text": [
      "Epoch 1286, loss: 512.0180857777596\nEpoch 1287, loss: 512.0659055709839\nEpoch 1288, loss: 511.98414850234985\nEpoch 1289, loss: 511.9691014289856\n"
     ]
    },
    {
     "name": "stdout",
     "output_type": "stream",
     "text": [
      "Epoch 1290, loss: 511.98456260561943\nEpoch 1291, loss: 512.0142421722412\nEpoch 1292, loss: 511.96940326690674\nEpoch 1293, loss: 512.009714871645\n"
     ]
    },
    {
     "name": "stdout",
     "output_type": "stream",
     "text": [
      "Epoch 1294, loss: 511.9325044155121\nEpoch 1295, loss: 511.9567696452141\nEpoch 1296, loss: 511.9315257072449\nEpoch 1297, loss: 511.95482033491135\n"
     ]
    },
    {
     "name": "stdout",
     "output_type": "stream",
     "text": [
      "Epoch 1298, loss: 511.9018979072571\nEpoch 1299, loss: 511.94470500946045\nEpoch 1300, loss: 511.94760823249817\n"
     ]
    },
    {
     "name": "stdout",
     "output_type": "stream",
     "text": [
      "Epoch 1301, loss: 511.8726898431778\nEpoch 1302, loss: 511.9259316921234\nEpoch 1303, loss: 511.9532108306885\nEpoch 1304, loss: 511.8648157119751\n"
     ]
    },
    {
     "name": "stdout",
     "output_type": "stream",
     "text": [
      "Epoch 1305, loss: 511.8459038734436\nEpoch 1306, loss: 511.8835207223892\nEpoch 1307, loss: 511.85629546642303\nEpoch 1308, loss: 511.82122468948364\n"
     ]
    },
    {
     "name": "stdout",
     "output_type": "stream",
     "text": [
      "Epoch 1309, loss: 511.78954738378525\nEpoch 1310, loss: 511.79506254196167\nEpoch 1311, loss: 511.80468714237213\nEpoch 1312, loss: 511.87390196323395\n"
     ]
    },
    {
     "name": "stdout",
     "output_type": "stream",
     "text": [
      "Epoch 1313, loss: 511.7966812849045\nEpoch 1314, loss: 511.82318341732025\nEpoch 1315, loss: 511.78165459632874\nEpoch 1316, loss: 511.8129916191101\n"
     ]
    },
    {
     "name": "stdout",
     "output_type": "stream",
     "text": [
      "Epoch 1317, loss: 511.76394832134247\nEpoch 1318, loss: 511.7744654417038\nEpoch 1319, loss: 511.7613595724106\nEpoch 1320, loss: 511.7545872628689\n"
     ]
    },
    {
     "name": "stdout",
     "output_type": "stream",
     "text": [
      "Epoch 1321, loss: 511.74122619628906\nEpoch 1322, loss: 511.7601139843464\nEpoch 1323, loss: 511.7277989387512\nEpoch 1324, loss: 511.7281050682068\n"
     ]
    },
    {
     "name": "stdout",
     "output_type": "stream",
     "text": [
      "Epoch 1325, loss: 511.7284314632416\nEpoch 1326, loss: 511.77622255682945\nEpoch 1327, loss: 511.71323323249817\nEpoch 1328, loss: 511.69211864471436\n"
     ]
    },
    {
     "name": "stdout",
     "output_type": "stream",
     "text": [
      "Epoch 1329, loss: 511.7224178314209\nEpoch 1330, loss: 511.6653821468353\nEpoch 1331, loss: 511.6577115058899\nEpoch 1332, loss: 511.6796293258667\n"
     ]
    },
    {
     "name": "stdout",
     "output_type": "stream",
     "text": [
      "Epoch 1333, loss: 511.6359405517578\nEpoch 1334, loss: 511.6786050796509\nEpoch 1335, loss: 511.6462322473526\nEpoch 1336, loss: 511.64092469215393\n"
     ]
    },
    {
     "name": "stdout",
     "output_type": "stream",
     "text": [
      "Epoch 1337, loss: 511.67787301540375\nEpoch 1338, loss: 511.6100398004055\nEpoch 1339, loss: 511.63729548454285\nEpoch 1340, loss: 511.5875070095062\n"
     ]
    },
    {
     "name": "stdout",
     "output_type": "stream",
     "text": [
      "Epoch 1341, loss: 511.5831335783005\nEpoch 1342, loss: 511.58340990543365\nEpoch 1343, loss: 511.5859569311142\nEpoch 1344, loss: 511.5626574754715\n"
     ]
    },
    {
     "name": "stdout",
     "output_type": "stream",
     "text": [
      "Epoch 1345, loss: 511.5518753528595\nEpoch 1346, loss: 511.52878880500793\nEpoch 1347, loss: 511.55261492729187\nEpoch 1348, loss: 511.57116532325745\n"
     ]
    },
    {
     "name": "stdout",
     "output_type": "stream",
     "text": [
      "Epoch 1349, loss: 511.5799778699875\nEpoch 1350, loss: 511.5418031215668\nEpoch 1351, loss: 511.4854646921158\nEpoch 1352, loss: 511.4794523715973\n"
     ]
    },
    {
     "name": "stdout",
     "output_type": "stream",
     "text": [
      "Epoch 1353, loss: 511.5117639899254\nEpoch 1354, loss: 511.44197618961334\nEpoch 1355, loss: 511.4576897621155\nEpoch 1356, loss: 511.4680640697479\n"
     ]
    },
    {
     "name": "stdout",
     "output_type": "stream",
     "text": [
      "Epoch 1357, loss: 511.4279854297638\nEpoch 1358, loss: 511.4440952166915\nEpoch 1359, loss: 511.4716976284981\nEpoch 1360, loss: 511.4488905072212\n"
     ]
    },
    {
     "name": "stdout",
     "output_type": "stream",
     "text": [
      "Epoch 1361, loss: 511.4459226131439\nEpoch 1362, loss: 511.4419049024582\nEpoch 1363, loss: 511.4532964229584\nEpoch 1364, loss: 511.40949511528015\n"
     ]
    },
    {
     "name": "stdout",
     "output_type": "stream",
     "text": [
      "Epoch 1365, loss: 511.41802859306335\nEpoch 1366, loss: 511.3605855703354\nEpoch 1367, loss: 511.4109547138214\nEpoch 1368, loss: 511.4278450012207\n"
     ]
    },
    {
     "name": "stdout",
     "output_type": "stream",
     "text": [
      "Epoch 1369, loss: 511.37276697158813\nEpoch 1370, loss: 511.3850727081299\nEpoch 1371, loss: 511.398491024971\nEpoch 1372, loss: 511.4212553501129\n"
     ]
    },
    {
     "name": "stdout",
     "output_type": "stream",
     "text": [
      "Epoch 1373, loss: 511.33157539367676\nEpoch 1374, loss: 511.33817076683044\nEpoch 1375, loss: 511.3050534725189\nEpoch 1376, loss: 511.2968101501465\n"
     ]
    },
    {
     "name": "stdout",
     "output_type": "stream",
     "text": [
      "Epoch 1377, loss: 511.3450632095337\nEpoch 1378, loss: 511.31626284122467\nEpoch 1379, loss: 511.27083909511566\nEpoch 1380, loss: 511.3024111390114\n"
     ]
    },
    {
     "name": "stdout",
     "output_type": "stream",
     "text": [
      "Epoch 1381, loss: 511.38019704818726\nEpoch 1382, loss: 511.258896112442\nEpoch 1383, loss: 511.284419298172\nEpoch 1384, loss: 511.26317036151886\n"
     ]
    },
    {
     "name": "stdout",
     "output_type": "stream",
     "text": [
      "Epoch 1385, loss: 511.22325015068054\nEpoch 1386, loss: 511.2385563850403\nEpoch 1387, loss: 511.2581043243408\nEpoch 1388, loss: 511.21382531523705\n"
     ]
    },
    {
     "name": "stdout",
     "output_type": "stream",
     "text": [
      "Epoch 1389, loss: 511.1867775917053\nEpoch 1390, loss: 511.23231959342957\nEpoch 1391, loss: 511.21935767680407\nEpoch 1392, loss: 511.2045556306839\n"
     ]
    },
    {
     "name": "stdout",
     "output_type": "stream",
     "text": [
      "Epoch 1393, loss: 511.23481154441833\nEpoch 1394, loss: 511.1755179166794\nEpoch 1395, loss: 511.15806728601456\nEpoch 1396, loss: 511.2182238101959\n"
     ]
    },
    {
     "name": "stdout",
     "output_type": "stream",
     "text": [
      "Epoch 1397, loss: 511.1686464473605\nEpoch 1398, loss: 511.1642612218857\nEpoch 1399, loss: 511.12469217181206\nEpoch 1400, loss: 511.16526848077774\n"
     ]
    },
    {
     "name": "stdout",
     "output_type": "stream",
     "text": [
      "Epoch 1401, loss: 511.1268140077591\nEpoch 1402, loss: 511.17549204826355\nEpoch 1403, loss: 511.10236120224\nEpoch 1404, loss: 511.11836671829224\n"
     ]
    },
    {
     "name": "stdout",
     "output_type": "stream",
     "text": [
      "Epoch 1405, loss: 511.09329348802567\nEpoch 1406, loss: 511.07224571704865\nEpoch 1407, loss: 511.0884163379669\nEpoch 1408, loss: 511.065486907959\n"
     ]
    },
    {
     "name": "stdout",
     "output_type": "stream",
     "text": [
      "Epoch 1409, loss: 511.0331594944\nEpoch 1410, loss: 511.0478026866913\nEpoch 1411, loss: 511.04473185539246\nEpoch 1412, loss: 511.13105231523514\n"
     ]
    },
    {
     "name": "stdout",
     "output_type": "stream",
     "text": [
      "Epoch 1413, loss: 511.02408373355865\nEpoch 1414, loss: 511.0356357097626\nEpoch 1415, loss: 511.043395280838\nEpoch 1416, loss: 511.0216541290283\n"
     ]
    },
    {
     "name": "stdout",
     "output_type": "stream",
     "text": [
      "Epoch 1417, loss: 510.97139382362366\nEpoch 1418, loss: 511.00985538959503\nEpoch 1419, loss: 511.04050850868225\n"
     ]
    },
    {
     "name": "stdout",
     "output_type": "stream",
     "text": [
      "Epoch 1420, loss: 510.97447051107883\nEpoch 1421, loss: 510.9963321685791\nEpoch 1422, loss: 511.0048018693924\nEpoch 1423, loss: 510.96837615966797\n"
     ]
    },
    {
     "name": "stdout",
     "output_type": "stream",
     "text": [
      "Epoch 1424, loss: 510.9811475276947\nEpoch 1425, loss: 510.995973110199\nEpoch 1426, loss: 510.98392605781555\nEpoch 1427, loss: 510.9775447845459\n"
     ]
    },
    {
     "name": "stdout",
     "output_type": "stream",
     "text": [
      "Epoch 1428, loss: 510.9014727473259\nEpoch 1429, loss: 510.9280502796173\nEpoch 1430, loss: 510.97487610578537\nEpoch 1431, loss: 510.91967010498047\n"
     ]
    },
    {
     "name": "stdout",
     "output_type": "stream",
     "text": [
      "Epoch 1432, loss: 510.89806365966797\nEpoch 1433, loss: 510.88543874025345\nEpoch 1434, loss: 510.911736369133\nEpoch 1435, loss: 510.864911198616\n"
     ]
    },
    {
     "name": "stdout",
     "output_type": "stream",
     "text": [
      "Epoch 1436, loss: 510.8548200279474\nEpoch 1437, loss: 510.89698028564453\nEpoch 1438, loss: 510.817943058908\nEpoch 1439, loss: 510.825870513916\n"
     ]
    },
    {
     "name": "stdout",
     "output_type": "stream",
     "text": [
      "Epoch 1440, loss: 510.841557264328\nEpoch 1441, loss: 510.8743517398834\nEpoch 1442, loss: 510.8422191143036\nEpoch 1443, loss: 510.82320415973663\n"
     ]
    },
    {
     "name": "stdout",
     "output_type": "stream",
     "text": [
      "Epoch 1444, loss: 510.83075881004333\nEpoch 1445, loss: 510.8556127548218\nEpoch 1446, loss: 510.79938462376595\nEpoch 1447, loss: 510.7995119765401\n"
     ]
    },
    {
     "name": "stdout",
     "output_type": "stream",
     "text": [
      "Epoch 1448, loss: 510.8312990665436\nEpoch 1449, loss: 510.83293080329895\nEpoch 1450, loss: 510.7568683028221\nEpoch 1451, loss: 510.76783287525177\n"
     ]
    },
    {
     "name": "stdout",
     "output_type": "stream",
     "text": [
      "Epoch 1452, loss: 510.7453408241272\nEpoch 1453, loss: 510.81019616127014\nEpoch 1454, loss: 510.7511124610901\nEpoch 1455, loss: 510.7618832588196\n"
     ]
    },
    {
     "name": "stdout",
     "output_type": "stream",
     "text": [
      "Epoch 1456, loss: 510.7414219379425\nEpoch 1457, loss: 510.76884722709656\nEpoch 1458, loss: 510.7483089566231\nEpoch 1459, loss: 510.71416664123535\n"
     ]
    },
    {
     "name": "stdout",
     "output_type": "stream",
     "text": [
      "Epoch 1460, loss: 510.698293030262\nEpoch 1461, loss: 510.67506551742554\nEpoch 1462, loss: 510.69393706321716\nEpoch 1463, loss: 510.6626426577568\n"
     ]
    },
    {
     "name": "stdout",
     "output_type": "stream",
     "text": [
      "Epoch 1464, loss: 510.6450252532959\nEpoch 1465, loss: 510.7016477584839\nEpoch 1466, loss: 510.63616132736206\nEpoch 1467, loss: 510.65047788619995\n"
     ]
    },
    {
     "name": "stdout",
     "output_type": "stream",
     "text": [
      "Epoch 1468, loss: 510.6584196090698\nEpoch 1469, loss: 510.6294783949852\nEpoch 1470, loss: 510.60649210214615\n"
     ]
    },
    {
     "name": "stdout",
     "output_type": "stream",
     "text": [
      "Epoch 1471, loss: 510.6212383508682\nEpoch 1472, loss: 510.5955182313919\nEpoch 1473, loss: 510.6235076189041\nEpoch 1474, loss: 510.58755695819855\n"
     ]
    },
    {
     "name": "stdout",
     "output_type": "stream",
     "text": [
      "Epoch 1475, loss: 510.6042861044407\nEpoch 1476, loss: 510.53711795806885\nEpoch 1477, loss: 510.5839948654175\nEpoch 1478, loss: 510.5476944446564\n"
     ]
    },
    {
     "name": "stdout",
     "output_type": "stream",
     "text": [
      "Epoch 1479, loss: 510.5575613975525\nEpoch 1480, loss: 510.59426152706146\nEpoch 1481, loss: 510.5708885192871\nEpoch 1482, loss: 510.5134502798319\n"
     ]
    },
    {
     "name": "stdout",
     "output_type": "stream",
     "text": [
      "Epoch 1483, loss: 510.53216433525085\nEpoch 1484, loss: 510.5352599620819\nEpoch 1485, loss: 510.5267038345337\nEpoch 1486, loss: 510.51646518707275\n"
     ]
    },
    {
     "name": "stdout",
     "output_type": "stream",
     "text": [
      "Epoch 1487, loss: 510.5112284421921\nEpoch 1488, loss: 510.50390696525574\nEpoch 1489, loss: 510.488333940506\nEpoch 1490, loss: 510.5394501686096\n"
     ]
    },
    {
     "name": "stdout",
     "output_type": "stream",
     "text": [
      "Epoch 1491, loss: 510.4789192676544\nEpoch 1492, loss: 510.46171963214874\nEpoch 1493, loss: 510.4842666387558\nEpoch 1494, loss: 510.5142732858658\n"
     ]
    },
    {
     "name": "stdout",
     "output_type": "stream",
     "text": [
      "Epoch 1495, loss: 510.4304780960083\nEpoch 1496, loss: 510.4807516336441\nEpoch 1497, loss: 510.41809129714966\nEpoch 1498, loss: 510.42690989375114\n"
     ]
    },
    {
     "name": "stdout",
     "output_type": "stream",
     "text": [
      "Epoch 1499, loss: 510.400521248579\n"
     ]
    }
   ],
   "source": [
    "nrof_epoch = 1500\n",
    "losses = []\n",
    "nrof_examples = len(X_train)\n",
    "\n",
    "for e in range(nrof_epoch):\n",
    "    cumulative_loss = 0\n",
    "    for i, (data, label) in enumerate(train_data):\n",
    "        data = data.as_in_context(model_ctx)\n",
    "        label = label.as_in_context(model_ctx)\n",
    "        with autograd.record():\n",
    "            y_pred = net(data)\n",
    "            loss = log_loss(y_pred, label)\n",
    "            \n",
    "        loss.backward()\n",
    "        trainer.step(batch_size)\n",
    "        cumulative_loss += nd.sum(loss).asscalar()\n",
    "    losses.append(cumulative_loss)\n",
    "    print('Epoch {}, loss: {}'.format(e, cumulative_loss))"
   ]
  },
  {
   "cell_type": "code",
   "execution_count": 62,
   "metadata": {},
   "outputs": [
    {
     "data": {
      "text/plain": [
       "Text(0,0.5,'average loss')"
      ]
     },
     "execution_count": 62,
     "metadata": {},
     "output_type": "execute_result"
    },
    {
     "data": {
      "image/png": "[encoded data removed]",
      "text/plain": [
       "<matplotlib.figure.Figure at 0x7f8a4c7a8ac8>"
      ]
     },
     "metadata": {},
     "output_type": "display_data"
    }
   ],
   "source": [
    "# plot the convergence of the estimated loss function\n",
    "\n",
    "%matplotlib inline\n",
    "\n",
    "import matplotlib\n",
    "import matplotlib.pyplot as plt\n",
    "\n",
    "plt.figure(num=None,figsize=(8, 6))\n",
    "plt.plot(losses)\n",
    "\n",
    "# Adding some bells and whistles to the plot\n",
    "plt.grid(True, which=\"both\")\n",
    "plt.xlabel('epoch',fontsize=14)\n",
    "plt.ylabel('average loss',fontsize=14)"
   ]
  },
  {
   "cell_type": "code",
   "execution_count": 66,
   "metadata": {},
   "outputs": [
    {
     "name": "stdout",
     "output_type": "stream",
     "text": [
      "Accuracy: 0.8416 (26052.0/30956)\n"
     ]
    }
   ],
   "source": [
    "nrof_correct = 0.0\n",
    "nrof_total = len(X_test)\n",
    "for i, (data, label) in enumerate(test_data):\n",
    "    data = data.as_in_context(model_ctx)\n",
    "    label = label.as_in_context(model_ctx)\n",
    "    y_pred = net(data)\n",
    "    y_pred = (nd.sign(y_pred) + 1) / 2 # -1, 0, 1\n",
    "    nrof_correct += nd.sum(y_pred == label)\n",
    "print('Accuracy: {:.4} ({}/{})'.format(nrof_correct.asscalar() / nrof_total, nrof_correct.asscalar(), nrof_total))"
   ]
  }
 ],
 "metadata": {
  "kernelspec": {
   "display_name": "Python 2",
   "language": "python",
   "name": "python2"
  },
  "language_info": {
   "codemirror_mode": {
    "name": "ipython",
    "version": 2
   },
   "file_extension": ".py",
   "mimetype": "text/x-python",
   "name": "python",
   "nbconvert_exporter": "python",
   "pygments_lexer": "ipython2",
   "version": "2.7.6"
  }
 },
 "nbformat": 4,
 "nbformat_minor": 0
}
