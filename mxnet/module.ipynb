{
 "cells": [
  {
   "cell_type": "markdown",
   "metadata": {},
   "source": [
    "# Module - Neural network training and inference\n",
    "\n",
    "Training a neural network involves quite a few steps. One need to specify how\n",
    "to feed input training data, initialize model parameters, perform forward and\n",
    "backward passes through the network, update weights based on computed gradients, do\n",
    "model checkpoints, etc. During prediction, one ends up repeating most of these\n",
    "steps. All this can be quite daunting to both newcomers as well as experienced\n",
    "developers.\n",
    "\n",
    "Luckily, MXNet modularizes commonly used code for training and inference in\n",
    "the `module` (`mod` for short) package. `Module` provides both high-level and\n",
    "intermediate-level interfaces for executing predefined networks. One can use\n",
    "both interfaces interchangeably. We will show the usage of both interfaces in\n",
    "this tutorial.\n",
    "\n",
    "## Prerequisites\n",
    "\n",
    "To complete this tutorial, we need:\n",
    "\n",
    "- MXNet. See the instructions for your operating system in [Setup and Installation](http://mxnet.io/get_started/install.html).  \n",
    "\n",
    "- [Jupyter Notebook](http://jupyter.org/index.html) and [Python Requests](http://docs.python-requests.org/en/master/) packages.\n",
    "```\n",
    "pip install jupyter requests\n",
    "```\n",
    "\n",
    "## Preliminary\n",
    "\n",
    "In this tutorial we will demonstrate `module` usage by training a\n",
    "[Multilayer Perceptron](https://en.wikipedia.org/wiki/Multilayer_perceptron) (MLP)\n",
    "on the [UCI letter recognition](https://archive.ics.uci.edu/ml/datasets/letter+recognition)\n",
    "dataset.\n",
    "\n",
    "The following code downloads the dataset and creates an 80:20 train:test\n",
    "split. It also initializes a training data iterator to return a batch of 32\n",
    "training examples each time. A separate iterator is also created for test data."
   ]
  },
  {
   "cell_type": "code",
   "execution_count": null,
   "metadata": {},
   "outputs": [],
   "source": [
    "import logging\n",
    "logging.getLogger().setLevel(logging.INFO)\n",
    "import mxnet as mx\n",
    "import numpy as np\n",
    "\n",
    "fname = mx.test_utils.download('http://archive.ics.uci.edu/ml/machine-learning-databases/letter-recognition/letter-recognition.data')\n",
    "data = np.genfromtxt(fname, delimiter=',')[:,1:]\n",
    "label = np.array([ord(l.split(',')[0])-ord('A') for l in open(fname, 'r')])\n",
    "\n",
    "batch_size = 32\n",
    "ntrain = int(data.shape[0]*0.8)\n",
    "train_iter = mx.io.NDArrayIter(data[:ntrain, :], label[:ntrain], batch_size, shuffle=True)\n",
    "val_iter = mx.io.NDArrayIter(data[ntrain:, :], label[ntrain:], batch_size)"
   ]
  },
  {
   "cell_type": "markdown",
   "metadata": {},
   "source": [
    "Next, we define the network."
   ]
  },
  {
   "cell_type": "code",
   "execution_count": null,
   "metadata": {},
   "outputs": [],
   "source": [
    "net = mx.sym.Variable('data')\n",
    "net = mx.sym.FullyConnected(net, name='fc1', num_hidden=64)\n",
    "net = mx.sym.Activation(net, name='relu1', act_type=\"relu\")\n",
    "net = mx.sym.FullyConnected(net, name='fc2', num_hidden=26)\n",
    "net = mx.sym.SoftmaxOutput(net, name='softmax')\n",
    "mx.viz.plot_network(net)"
   ]
  },
  {
   "cell_type": "markdown",
   "metadata": {},
   "source": [
    "## Creating a Module\n",
    "\n",
    "Now we are ready to introduce module. The commonly used module class is\n",
    "`Module`. We can construct a module by specifying the following parameters:\n",
    "\n",
    "- `symbol`: the network definition\n",
    "- `context`: the device (or a list of devices) to use for execution\n",
    "- `data_names` : the list of input data variable names\n",
    "- `label_names` : the list of input label variable names\n",
    "\n",
    "For `net`, we have only one data named `data`, and one label named `softmax_label`,\n",
    "which is automatically named for us following the name `softmax` we specified for the `SoftmaxOutput` operator."
   ]
  },
  {
   "cell_type": "code",
   "execution_count": null,
   "metadata": {},
   "outputs": [],
   "source": [
    "mod = mx.mod.Module(symbol=net,\n",
    "                    context=mx.cpu(),\n",
    "                    data_names=['data'],\n",
    "                    label_names=['softmax_label'])"
   ]
  },
  {
   "cell_type": "markdown",
   "metadata": {},
   "source": [
    "## Intermediate-level Interface\n",
    "\n",
    "We have created module. Now let us see how to run training and inference using module's intermediate-level APIs. These APIs give developers flexibility to do step-by-step\n",
    "computation by running `forward` and `backward` passes. It's also useful for debugging.\n",
    "\n",
    "To train a module, we need to perform following steps:\n",
    "\n",
    "- `bind` : Prepares environment for the computation by allocating memory.\n",
    "- `init_params` : Assigns and initializes parameters.\n",
    "- `init_optimizer` : Initializes optimizers. Defaults to `sgd`.\n",
    "- `metric.create` : Creates evaluation metric from input metric name.\n",
    "- `forward` : Forward computation.\n",
    "- `update_metric` : Evaluates and accumulates evaluation metric on outputs of the last forward computation.\n",
    "- `backward` : Backward computation.\n",
    "- `update` : Updates parameters according to the installed optimizer and the gradients computed in the previous forward-backward batch.\n",
    "\n",
    "This can be used as follows:"
   ]
  },
  {
   "cell_type": "code",
   "execution_count": null,
   "metadata": {},
   "outputs": [],
   "source": [
    "# allocate memory given the input data and label shapes\n",
    "mod.bind(data_shapes=train_iter.provide_data, label_shapes=train_iter.provide_label)\n",
    "# initialize parameters by uniform random numbers\n",
    "mod.init_params(initializer=mx.init.Uniform(scale=.1))\n",
    "# use SGD with learning rate 0.1 to train\n",
    "mod.init_optimizer(optimizer='sgd', optimizer_params=(('learning_rate', 0.1), ))\n",
    "# use accuracy as the metric\n",
    "metric = mx.metric.create('acc')\n",
    "# train 5 epochs, i.e. going over the data iter one pass\n",
    "for epoch in range(5):\n",
    "    train_iter.reset()\n",
    "    metric.reset()\n",
    "    for batch in train_iter:\n",
    "        mod.forward(batch, is_train=True)       # compute predictions\n",
    "        mod.update_metric(metric, batch.label)  # accumulate prediction accuracy\n",
    "        mod.backward()                          # compute gradients\n",
    "        mod.update()                            # update parameters\n",
    "    print('Epoch %d, Training %s' % (epoch, metric.get()))"
   ]
  },
  {
   "cell_type": "markdown",
   "metadata": {},
   "source": [
    "To learn more about these APIs, visit [Module API](http://mxnet.io/api/python/module.html).\n",
    "\n",
    "## High-level Interface\n",
    "\n",
    "### Train\n",
    "\n",
    "Module also provides high-level APIs for training, predicting and evaluating for\n",
    "user convenience. Instead of doing all the steps mentioned in the above section,\n",
    "one can simply call [fit API](http://mxnet.io/api/python/module.html#mxnet.module.BaseModule.fit)\n",
    "and it internally executes the same steps.\n",
    "\n",
    "To fit a module, call the `fit` function as follows:"
   ]
  },
  {
   "cell_type": "code",
   "execution_count": null,
   "metadata": {},
   "outputs": [],
   "source": [
    "# reset train_iter to the beginning\n",
    "train_iter.reset()\n",
    "\n",
    "# create a module\n",
    "mod = mx.mod.Module(symbol=net,\n",
    "                    context=mx.cpu(),\n",
    "                    data_names=['data'],\n",
    "                    label_names=['softmax_label'])\n",
    "\n",
    "# fit the module\n",
    "mod.fit(train_iter,\n",
    "        eval_data=val_iter,\n",
    "        optimizer='sgd',\n",
    "        optimizer_params={'learning_rate':0.1},\n",
    "        eval_metric='acc',\n",
    "        num_epoch=8)"
   ]
  },
  {
   "cell_type": "markdown",
   "metadata": {},
   "source": [
    "By default, `fit` function has `eval_metric` set to `accuracy`, `optimizer` to `sgd`\n",
    "and optimizer_params to `(('learning_rate', 0.01),)`.\n",
    "\n",
    "### Predict and Evaluate\n",
    "\n",
    "To predict with module, we can call `predict()`. It will collect and\n",
    "return all the prediction results."
   ]
  },
  {
   "cell_type": "code",
   "execution_count": null,
   "metadata": {},
   "outputs": [],
   "source": [
    "y = mod.predict(val_iter)\n",
    "assert y.shape == (4000, 26)"
   ]
  },
  {
   "cell_type": "markdown",
   "metadata": {},
   "source": [
    "If we do not need the prediction outputs, but just need to evaluate on a test\n",
    "set, we can call the `score()` function. It runs prediction in the input validation\n",
    "dataset and evaluates the performance according to the given input metric.\n",
    "\n",
    "It can be used as follows:"
   ]
  },
  {
   "cell_type": "code",
   "execution_count": null,
   "metadata": {},
   "outputs": [],
   "source": [
    "score = mod.score(val_iter, ['acc'])\n",
    "print(\"Accuracy score is %f\" % (score[0][1]))"
   ]
  },
  {
   "cell_type": "markdown",
   "metadata": {},
   "source": [
    "Some of the other metrics which can be used are `top_k_acc`(top-k-accuracy),\n",
    "`F1`, `RMSE`, `MSE`, `MAE`, `ce`(CrossEntropy). To learn more about the metrics,\n",
    "visit [Evaluation metric](http://mxnet.io/api/python/metric.html).\n",
    "\n",
    "One can vary number of epochs, learning_rate, optimizer parameters to change the score\n",
    "and tune these parameters to get best score.\n",
    "\n",
    "### Save and Load\n",
    "\n",
    "We can save the module parameters after each training epoch by using a checkpoint callback."
   ]
  },
  {
   "cell_type": "code",
   "execution_count": null,
   "metadata": {},
   "outputs": [],
   "source": [
    "# construct a callback function to save checkpoints\n",
    "model_prefix = 'mx_mlp'\n",
    "checkpoint = mx.callback.do_checkpoint(model_prefix)\n",
    "\n",
    "mod = mx.mod.Module(symbol=net)\n",
    "mod.fit(train_iter, num_epoch=5, epoch_end_callback=checkpoint)"
   ]
  },
  {
   "cell_type": "markdown",
   "metadata": {},
   "source": [
    "To load the saved module parameters, call the `load_checkpoint` function. It\n",
    "loads the Symbol and the associated parameters. We can then set the loaded\n",
    "parameters into the module."
   ]
  },
  {
   "cell_type": "code",
   "execution_count": null,
   "metadata": {},
   "outputs": [],
   "source": [
    "sym, arg_params, aux_params = mx.model.load_checkpoint(model_prefix, 3)\n",
    "assert sym.tojson() == net.tojson()\n",
    "\n",
    "# assign the loaded parameters to the module\n",
    "mod.set_params(arg_params, aux_params)"
   ]
  },
  {
   "cell_type": "markdown",
   "metadata": {},
   "source": [
    "Or if we just want to resume training from a saved checkpoint, instead of\n",
    "calling `set_params()`, we can directly call `fit()`, passing the loaded\n",
    "parameters, so that `fit()` knows to start from those parameters instead of\n",
    "initializing randomly from scratch. We also set the `begin_epoch` parameter so that\n",
    "`fit()` knows we are resuming from a previously saved epoch."
   ]
  },
  {
   "cell_type": "code",
   "execution_count": 1,
   "metadata": {},
   "outputs": [
    {
     "ename": "NameError",
     "evalue": "name 'mx' is not defined",
     "output_type": "error",
     "traceback": [
      "\u001b[0;31m---------------------------------------------------------------------------\u001b[0m",
      "\u001b[0;31mNameError\u001b[0m                                 Traceback (most recent call last)",
      "\u001b[0;32m<ipython-input-1-8e856c7ee75a>\u001b[0m in \u001b[0;36m<module>\u001b[0;34m()\u001b[0m\n\u001b[0;32m----> 1\u001b[0;31m \u001b[0mmod\u001b[0m \u001b[0;34m=\u001b[0m \u001b[0mmx\u001b[0m\u001b[0;34m.\u001b[0m\u001b[0mmod\u001b[0m\u001b[0;34m.\u001b[0m\u001b[0mModule\u001b[0m\u001b[0;34m(\u001b[0m\u001b[0msymbol\u001b[0m\u001b[0;34m=\u001b[0m\u001b[0msym\u001b[0m\u001b[0;34m)\u001b[0m\u001b[0;34m\u001b[0m\u001b[0m\n\u001b[0m\u001b[1;32m      2\u001b[0m mod.fit(train_iter,\n\u001b[1;32m      3\u001b[0m         \u001b[0mnum_epoch\u001b[0m\u001b[0;34m=\u001b[0m\u001b[0;36m8\u001b[0m\u001b[0;34m,\u001b[0m\u001b[0;34m\u001b[0m\u001b[0m\n\u001b[1;32m      4\u001b[0m         \u001b[0marg_params\u001b[0m\u001b[0;34m=\u001b[0m\u001b[0marg_params\u001b[0m\u001b[0;34m,\u001b[0m\u001b[0;34m\u001b[0m\u001b[0m\n\u001b[1;32m      5\u001b[0m         \u001b[0maux_params\u001b[0m\u001b[0;34m=\u001b[0m\u001b[0maux_params\u001b[0m\u001b[0;34m,\u001b[0m\u001b[0;34m\u001b[0m\u001b[0m\n",
      "\u001b[0;31mNameError\u001b[0m: name 'mx' is not defined"
     ]
    }
   ],
   "source": [
    "mod = mx.mod.Module(symbol=sym)\n",
    "mod.fit(train_iter,\n",
    "        num_epoch=8,\n",
    "        arg_params=arg_params,\n",
    "        aux_params=aux_params,\n",
    "        begin_epoch=3)"
   ]
  },
  {
   "cell_type": "markdown",
   "metadata": {},
   "source": [
    "\n",
    "<!-- INSERT SOURCE DOWNLOAD BUTTONS -->\n",
    "\n"
   ]
  }
 ],
 "metadata": {
  "display_name": "",
  "kernelspec": {
   "display_name": "Python 3",
   "language": "python",
   "name": "python3"
  },
  "language_info": {
   "codemirror_mode": {
    "name": "ipython",
    "version": 3
   },
   "file_extension": ".py",
   "mimetype": "text/x-python",
   "name": "python",
   "nbconvert_exporter": "python",
   "pygments_lexer": "ipython3",
   "version": "3.5.2"
  },
  "name": ""
 },
 "nbformat": 4,
 "nbformat_minor": 2
}
