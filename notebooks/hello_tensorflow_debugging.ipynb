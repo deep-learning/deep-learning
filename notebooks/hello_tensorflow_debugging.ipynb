{
 "cells": [
  {
   "cell_type": "markdown",
   "metadata": {},
   "source": [
    "## Debugging\n",
    "\n",
    "### TensorFlow debugger (tfdbg) \n"
   ]
  },
  {
   "cell_type": "code",
   "execution_count": 8,
   "metadata": {},
   "outputs": [
    {
     "data": {
      "text/plain": [
       "(TensorShape([Dimension(None), Dimension(2), Dimension(2)]),\n",
       " <tf.Tensor 'Shape_6:0' shape=(3,) dtype=int32>,\n",
       " array([2, 2, 2], dtype=int32))"
      ]
     },
     "execution_count": 8,
     "metadata": {},
     "output_type": "execute_result"
    }
   ],
   "source": [
    "import tensorflow as tf\n",
    "\n",
    "sess = tf.Session()\n",
    "input = tf.placeholder(tf.float32, [None, 2, 2])\n",
    "input.get_shape(), tf.shape(input), sess.run(tf.shape(input), feed_dict={input: [[[1, 2], [3, 4]], [[5, 6], [7, 8]]]})"
   ]
  },
  {
   "cell_type": "code",
   "execution_count": 12,
   "metadata": {},
   "outputs": [
    {
     "data": {
      "text/plain": [
       "(TensorShape([Dimension(2), Dimension(2), Dimension(3)]),\n",
       " <tf.Tensor 'Shape_12:0' shape=(3,) dtype=int32>,\n",
       " array([2, 2, 3], dtype=int32),\n",
       " array([[[1, 1, 1],\n",
       "         [2, 2, 2]],\n",
       " \n",
       "        [[3, 3, 3],\n",
       "         [4, 4, 4]]], dtype=int32))"
      ]
     },
     "execution_count": 12,
     "metadata": {},
     "output_type": "execute_result"
    }
   ],
   "source": [
    "t = tf.constant([[[1, 1, 1], [2, 2, 2]], [[3, 3, 3], [4, 4, 4]]])\n",
    "t.get_shape(), tf.shape(t), sess.run(tf.shape(t)), sess.run(t)"
   ]
  }
 ],
 "metadata": {
  "kernelspec": {
   "display_name": "Python 3",
   "language": "python",
   "name": "python3"
  },
  "language_info": {
   "codemirror_mode": {
    "name": "ipython",
    "version": 3
   },
   "file_extension": ".py",
   "mimetype": "text/x-python",
   "name": "python",
   "nbconvert_exporter": "python",
   "pygments_lexer": "ipython3",
   "version": "3.6.4"
  }
 },
 "nbformat": 4,
 "nbformat_minor": 2
}
