{
 "cells": [
  {
   "cell_type": "markdown",
   "metadata": {},
   "source": [
    "\n",
    "\n",
    "- A **tensor** is a generalization of vectors and matrices to potentially higher dimensions.\n",
    "- Internally, TensorFlow represents tensors as **n-dimensional arrays of base datatypes**.\n",
    "- A `tf.Tensor` object represents *a partially defined* computation that will *eventually* produce a value.\n",
    "- A tf.Tensor has the following properties:\n",
    "    - a data type (float32, int32, or string, for example)\n",
    "    - a shape\n",
    "- Each element in the Tensor has the same data type, and the data type is always known. The shape (that is, the number of dimensions it has and the size of each dimension) *might be only partially known*. In some cases it's only possible to find the shape of a tensor at graph execution time\n",
    "- The main tensor types are:\n",
    "    - `tf.Variable`\n",
    "    - `tf.Constant`\n",
    "    - `tf.Placeholder`\n",
    "    - `tf.SparseTensor`\n",
    "- With *the exception of tf.Variable*, the value of a tensor is **immutable**, which means that in the context of a single execution tensors only have a single value. However, evaluating the same tensor twice can return different values; for example that tensor can be the result of reading data from disk, or generating a random number.\n",
    "\n",
    "### Rank\n",
    "\n",
    "- The **rank** of a tf.Tensor object is its number of dimensions. Synonyms for rank include *order* or *degree* or *n-dimension*.\n",
    "- Rank 0\n",
    "    - Scalar (magnitude only)\n",
    "    - A string is treated as a single item in TensorFlow, not as a sequence of characters\n",
    "```python\n",
    "mammal = tf.Variable(\"Elephant\", tf.string)\n",
    "ignition = tf.Variable(451, tf.int16)\n",
    "floating = tf.Variable(3.14159265359, tf.float64)\n",
    "its_complicated = tf.Variable((12.3, -4.85), tf.complex64)\n",
    "```\n",
    "- Rank 1\n",
    "    - Vector (magnitude and direction)\n",
    "```python\n",
    "mystr = tf.Variable([\"Hello\"], tf.string)\n",
    "cool_numbers  = tf.Variable([3.14159, 2.71828], tf.float32)\n",
    "first_primes = tf.Variable([2, 3, 5, 7, 11], tf.int32)\n",
    "its_very_complicated = tf.Variable([(12.3, -4.85), (7.5, -6.23)], tf.complex64)\n",
    "```\n",
    "- Rank 2\n",
    "    - \tMatrix (table of numbers)\n",
    "- Rank 3\n",
    "    - 3-Tensor (cube of numbers)\n",
    "- Rank n\n",
    "    - n-Tensor (you get the idea)\n",
    "```python\n",
    "my_image = tf.zeros([10, 299, 299, 3])  # batch x height x width x color\n",
    "```"
   ]
  },
  {
   "cell_type": "code",
   "execution_count": 11,
   "metadata": {},
   "outputs": [
    {
     "data": {
      "text/plain": [
       "(<tf.Tensor 'zeros_6:0' shape=(10, 299, 299, 3) dtype=float32>,\n",
       " <tf.Tensor 'Rank_8:0' shape=() dtype=int32>,\n",
       " <tf.Tensor 'strided_slice_3:0' shape=() dtype=float32>)"
      ]
     },
     "execution_count": 11,
     "metadata": {},
     "output_type": "execute_result"
    }
   ],
   "source": [
    "my_image = tf.zeros([10, 299, 299, 3])  # batch x height x width x color\n",
    "sess = tf.Session()\n",
    "\n",
    "my_image, tf.rank(my_image), my_image[1, 2, 3, 1]"
   ]
  },
  {
   "cell_type": "code",
   "execution_count": null,
   "metadata": {},
   "outputs": [],
   "source": [
    "sess.run([tf.rank(my_image), my_image[1, 2, 3, 1]])"
   ]
  },
  {
   "cell_type": "markdown",
   "metadata": {},
   "source": [
    "- `tf.Tensor.shape` property: reading the shape property of a tf.Tensor object. This method returns a TensorShape object, which is a convenient way of representing partially-specified shapes\n",
    "- `tf.shape` operation: get a tf.Tensor that will represent the fully-defined shape of another tf.Tensor at runtime"
   ]
  },
  {
   "cell_type": "code",
   "execution_count": 15,
   "metadata": {},
   "outputs": [],
   "source": [
    " my_image.get_shape(), my_image.shape\n",
    "zeros = tf.zeros(tf.shape(my_image))"
   ]
  },
  {
   "cell_type": "code",
   "execution_count": 18,
   "metadata": {},
   "outputs": [
    {
     "data": {
      "text/plain": [
       "(<tf.Tensor 'Shape_5:0' shape=(4,) dtype=int32>,\n",
       " TensorShape([Dimension(10), Dimension(299), Dimension(299), Dimension(3)]),\n",
       " TensorShape([Dimension(10), Dimension(299), Dimension(299), Dimension(3)]))"
      ]
     },
     "execution_count": 18,
     "metadata": {},
     "output_type": "execute_result"
    }
   ],
   "source": [
    "tf.shape(my_image), my_image.get_shape(), my_image.shape"
   ]
  },
  {
   "cell_type": "code",
   "execution_count": 21,
   "metadata": {},
   "outputs": [],
   "source": [
    "rank_three_tensor = tf.ones([3, 4, 5])\n",
    "matrix = tf.reshape(rank_three_tensor, [6, 10])  # Reshape existing content into\n",
    "                                                 # a 6x10 matrix\n",
    "matrixB = tf.reshape(matrix, [3, -1])  #  Reshape existing content into a 3x20\n",
    "                                       # matrix. -1 tells reshape to calculate\n",
    "                                       # the size of this dimension.\n",
    "matrixAlt = tf.reshape(matrixB, [4, 3, -1])  # Reshape existing content into a\n",
    "                                             #4x3x5 tensor\n",
    "\n",
    "# Note that the number of elements of the reshaped Tensors has to match the\n",
    "# original number of elements. Therefore, the following example generates an\n",
    "# error because no possible value for the last dimension will match the number\n",
    "# of elements.\n",
    "# yet_another = tf.reshape(matrixAlt, [13, 2, -1])  # ERROR!"
   ]
  },
  {
   "cell_type": "markdown",
   "metadata": {},
   "source": [
    "It is not possible to have a tf.Tensor with more than one data type. It is possible, however, to **serialize arbitrary data structures as strings and store those in tf.Tensors**."
   ]
  },
  {
   "cell_type": "code",
   "execution_count": 24,
   "metadata": {},
   "outputs": [],
   "source": [
    "# Cast a constant integer tensor into floating point.\n",
    "float_tensor = tf.cast(tf.constant([1, 2, 3]), dtype=tf.float32)"
   ]
  },
  {
   "cell_type": "code",
   "execution_count": 25,
   "metadata": {},
   "outputs": [
    {
     "data": {
      "text/plain": [
       "tf.float32"
      ]
     },
     "execution_count": 25,
     "metadata": {},
     "output_type": "execute_result"
    }
   ],
   "source": [
    "float_tensor.dtype"
   ]
  },
  {
   "cell_type": "markdown",
   "metadata": {},
   "source": [
    "When creating a tf.Tensor from a python object you may optionally specify the datatype. If you don't, TensorFlow chooses a datatype that can represent your data. "
   ]
  },
  {
   "cell_type": "markdown",
   "metadata": {},
   "source": [
    "- The simplest way to evaluate a Tensor is using the `Tensor.eval` method\n",
    "- The `eval` method only works when a default tf.Session is active\n",
    "- `Tensor.eval` returns a numpy array with the same contents as the tensor.\n",
    "\n"
   ]
  },
  {
   "cell_type": "code",
   "execution_count": 37,
   "metadata": {},
   "outputs": [
    {
     "name": "stdout",
     "output_type": "stream",
     "text": [
      "[1 4 9]\n",
      "3.0\n"
     ]
    }
   ],
   "source": [
    "with tf.Session() as sess:\n",
    "    constant = tf.constant([1, 2, 3])\n",
    "    tensor = constant * constant\n",
    "    print(tensor.eval())\n",
    "    \n",
    "    p = tf.placeholder(tf.float32)\n",
    "    t = p + 1.0\n",
    "    # t.eval()  # This will fail, since the placeholder did not get a value.\n",
    "    print(t.eval(feed_dict={p:2.0}))  # This will succeed because we're feeding a value\n",
    "                               # to the placeholder."
   ]
  },
  {
   "cell_type": "markdown",
   "metadata": {},
   "source": [
    "Note that it is **possible to feed any tf.Tensor**, not just placeholders.\n",
    "\n",
    "TensorFlow can't directly evaluate tf.Tensors defined inside functions or inside control flow constructs. If a tf.Tensor depends on a value from a queue, evaluating the tf.Tensor will only work once something has been enqueued; otherwise, evaluating it will hang. When working with queues, remember to call tf.train.start_queue_runners before evaluating any tf.Tensors."
   ]
  },
  {
   "cell_type": "code",
   "execution_count": 40,
   "metadata": {},
   "outputs": [
    {
     "name": "stdout",
     "output_type": "stream",
     "text": [
      "Tensor(\"Const_11:0\", shape=(), dtype=int32)\n"
     ]
    }
   ],
   "source": [
    "t = tf.constant(12)\n",
    "# This code prints the tf.Tensor object (which represents deferred computation) and not its value\n",
    "print(t)"
   ]
  },
  {
   "cell_type": "markdown",
   "metadata": {},
   "source": [
    "- TensorFlow provides the tf.Print operation, which returns its first tensor argument unchanged while printing the set of tf.Tensors it is passed as the second argument.\n",
    "- This is an identity op with the side effect of printing data when evaluating\n",
    "- To correctly use tf.Print its return value must be used."
   ]
  },
  {
   "cell_type": "code",
   "execution_count": 74,
   "metadata": {},
   "outputs": [
    {
     "name": "stdout",
     "output_type": "stream",
     "text": [
      "result=[[-0.9177327  -0.07852054]\n",
      " [ 0.41223937 -0.24745262]]\n"
     ]
    }
   ],
   "source": [
    "tf.Print(t, [t])  # This does nothing\n",
    "t = tf.Variable(tf.random_normal([2, 2]))\n",
    "t_print = tf.Print(t, [t])  # Here we are using the value returned by tf.Print\n",
    "result = t_print + 1  # Now when result is evaluated the value of `t` will be printed.\n",
    "sess = tf.InteractiveSession()\n",
    "sess.run(tf.global_variables_initializer())\n",
    "print('result={}'.format(sess.run(result)))"
   ]
  },
  {
   "cell_type": "code",
   "execution_count": 70,
   "metadata": {},
   "outputs": [],
   "source": [
    "import tensorflow as tf\n",
    "from tensorflow.python import debug as tf_debug\n",
    "a = tf.constant([1.0, 4.0], shape=[2,1])\n",
    "b = tf.constant([2.0, 3.0], shape=[1,2])\n",
    "c = tf.add(tf.matmul(a,b), tf.constant([5.0, 6.0]))\n",
    "d = tf.Print(c, [c, 2.0], message=\"Value of C is:\")\n",
    "sess = tf_debug.LocalCLIDebugWrapperSession(sess)\n",
    "with tf.Session() as sess:\n",
    "    sess.run(d)"
   ]
  }
 ],
 "metadata": {
  "kernelspec": {
   "display_name": "Python 3",
   "language": "python",
   "name": "python3"
  },
  "language_info": {
   "codemirror_mode": {
    "name": "ipython",
    "version": 3
   },
   "file_extension": ".py",
   "mimetype": "text/x-python",
   "name": "python",
   "nbconvert_exporter": "python",
   "pygments_lexer": "ipython3",
   "version": "3.5.2"
  }
 },
 "nbformat": 4,
 "nbformat_minor": 2
}
