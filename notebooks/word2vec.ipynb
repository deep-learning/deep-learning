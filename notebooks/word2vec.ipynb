{
 "cells": [
  {
   "cell_type": "markdown",
   "metadata": {
    "slideshow": {
     "slide_type": "slide"
    }
   },
   "source": [
    "# word2vec\n",
    "\n",
    "> how do we make computers of today perform clustering, classification etc on a text data?\n",
    " \n",
    "**By creating a representation for words that capture their meanings, semantic relationships and the different types of contexts they are used in**\n",
    "\n"
   ]
  },
  {
   "cell_type": "markdown",
   "metadata": {
    "slideshow": {
     "slide_type": "subslide"
    }
   },
   "source": [
    "## Word Embeddings\n",
    "\n",
    "- Word Embeddings are the texts converted into numbers\n",
    "- There may be different numerical representations of the same text\n",
    "- Formally, a Word Embedding format generally tries to map a word using a dictionary to a vector\n",
    "- A vector representation of a word may be a one-hot encoded vector\n"
   ]
  },
  {
   "cell_type": "markdown",
   "metadata": {},
   "source": [
    "### Different types of Word Embeddings\n",
    "\n",
    "- Frequency based Embedding\n",
    "  - Count Vector\n",
    "  - TF-IDF Vector\n",
    "  - Co-Occurrence Vector\n",
    "- Prediction based Embedding\n",
    "  - CBOW\n",
    "  - Skip-Gram"
   ]
  },
  {
   "cell_type": "markdown",
   "metadata": {},
   "source": [
    "### Resources\n",
    "\n",
    "- https://www.analyticsvidhya.com/blog/2017/06/word-embeddings-count-word2veec/\n",
    "- https://www.tensorflow.org/tutorials/word2vec"
   ]
  },
  {
   "cell_type": "code",
   "execution_count": null,
   "metadata": {},
   "outputs": [],
   "source": []
  }
 ],
 "metadata": {
  "kernelspec": {
   "display_name": "Python 3",
   "language": "python",
   "name": "python3"
  },
  "language_info": {
   "codemirror_mode": {
    "name": "ipython",
    "version": 3
   },
   "file_extension": ".py",
   "mimetype": "text/x-python",
   "name": "python",
   "nbconvert_exporter": "python",
   "pygments_lexer": "ipython3",
   "version": "3.5.2"
  }
 },
 "nbformat": 4,
 "nbformat_minor": 2
}
